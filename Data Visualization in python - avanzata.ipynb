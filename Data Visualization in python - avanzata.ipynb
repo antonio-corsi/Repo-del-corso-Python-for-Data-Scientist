{
 "cells": [
  {
   "cell_type": "markdown",
   "id": "c49cc08c",
   "metadata": {},
   "source": [
    "# Bar chart race animati"
   ]
  },
  {
   "cell_type": "markdown",
   "id": "8546ee8f",
   "metadata": {},
   "source": [
    "![](data_visualization_python.png)"
   ]
  },
  {
   "cell_type": "markdown",
   "id": "f96942b4",
   "metadata": {},
   "source": [
    "**[Racing bar chart](https://flourish.studio/visualisations/bar-chart-race/)** in Python (da [qui](https://www.linkedin.com/feed/update/urn:li:activity:7185253051933282304?utm_source=share&utm_medium=member_desktop))"
   ]
  },
  {
   "cell_type": "code",
   "execution_count": 6,
   "id": "0ba28c23",
   "metadata": {
    "ExecuteTime": {
     "end_time": "2024-10-16T12:36:38.310507Z",
     "start_time": "2024-10-16T12:36:33.333173Z"
    },
    "execution": {
     "iopub.execute_input": "2025-06-16T13:41:45.133970Z",
     "iopub.status.busy": "2025-06-16T13:41:45.133970Z",
     "iopub.status.idle": "2025-06-16T13:41:49.191438Z",
     "shell.execute_reply": "2025-06-16T13:41:49.191438Z",
     "shell.execute_reply.started": "2025-06-16T13:41:45.133970Z"
    }
   },
   "outputs": [
    {
     "name": "stdout",
     "output_type": "stream",
     "text": [
      "Collecting bar_chart_race\n",
      "  Using cached bar_chart_race-0.1.0-py3-none-any.whl.metadata (4.2 kB)\n",
      "Requirement already satisfied: pandas>=0.24 in c:\\users\\utente\\appdata\\roaming\\python\\python312\\site-packages (from bar_chart_race) (2.2.3)\n",
      "Requirement already satisfied: matplotlib>=3.1 in c:\\users\\utente\\appdata\\roaming\\python\\python312\\site-packages (from bar_chart_race) (3.8.4)\n",
      "Requirement already satisfied: contourpy>=1.0.1 in c:\\users\\utente\\appdata\\roaming\\python\\python312\\site-packages (from matplotlib>=3.1->bar_chart_race) (1.2.1)\n",
      "Requirement already satisfied: cycler>=0.10 in c:\\users\\utente\\appdata\\roaming\\python\\python312\\site-packages (from matplotlib>=3.1->bar_chart_race) (0.12.1)\n",
      "Requirement already satisfied: fonttools>=4.22.0 in c:\\users\\utente\\appdata\\roaming\\python\\python312\\site-packages (from matplotlib>=3.1->bar_chart_race) (4.51.0)\n",
      "Requirement already satisfied: kiwisolver>=1.3.1 in c:\\users\\utente\\appdata\\roaming\\python\\python312\\site-packages (from matplotlib>=3.1->bar_chart_race) (1.4.5)\n",
      "Requirement already satisfied: numpy>=1.21 in c:\\users\\utente\\anaconda3\\lib\\site-packages (from matplotlib>=3.1->bar_chart_race) (1.26.4)\n",
      "Requirement already satisfied: packaging>=20.0 in c:\\users\\utente\\appdata\\roaming\\python\\python312\\site-packages (from matplotlib>=3.1->bar_chart_race) (23.2)\n",
      "Requirement already satisfied: pillow>=8 in c:\\users\\utente\\appdata\\roaming\\python\\python312\\site-packages (from matplotlib>=3.1->bar_chart_race) (10.3.0)\n",
      "Requirement already satisfied: pyparsing>=2.3.1 in c:\\users\\utente\\appdata\\roaming\\python\\python312\\site-packages (from matplotlib>=3.1->bar_chart_race) (3.1.2)\n",
      "Requirement already satisfied: python-dateutil>=2.7 in c:\\users\\utente\\appdata\\roaming\\python\\python312\\site-packages (from matplotlib>=3.1->bar_chart_race) (2.8.2)\n",
      "Requirement already satisfied: pytz>=2020.1 in c:\\users\\utente\\appdata\\roaming\\python\\python312\\site-packages (from pandas>=0.24->bar_chart_race) (2024.1)\n",
      "Requirement already satisfied: tzdata>=2022.7 in c:\\users\\utente\\appdata\\roaming\\python\\python312\\site-packages (from pandas>=0.24->bar_chart_race) (2024.1)\n",
      "Requirement already satisfied: six>=1.5 in c:\\users\\utente\\appdata\\roaming\\python\\python312\\site-packages (from python-dateutil>=2.7->matplotlib>=3.1->bar_chart_race) (1.16.0)\n",
      "Using cached bar_chart_race-0.1.0-py3-none-any.whl (156 kB)\n",
      "Installing collected packages: bar_chart_race\n",
      "Successfully installed bar_chart_race-0.1.0\n"
     ]
    },
    {
     "name": "stderr",
     "output_type": "stream",
     "text": [
      "\n",
      "[notice] A new release of pip is available: 23.3.2 -> 25.1.1\n",
      "[notice] To update, run: python.exe -m pip install --upgrade pip\n"
     ]
    }
   ],
   "source": [
    "!pip install bar_chart_race \n",
    "import bar_chart_race as bcr"
   ]
  },
  {
   "cell_type": "markdown",
   "id": "f592f2d9",
   "metadata": {},
   "source": [
    "Utilizziamo [questo dataset di kaggle](https://www.kaggle.com/datasets/totoro29/air-pollution-level?resource=download) sui livelli di inquinamento dell'aria nel mondo e nel tempo."
   ]
  },
  {
   "cell_type": "code",
   "execution_count": 7,
   "id": "df616685",
   "metadata": {
    "ExecuteTime": {
     "end_time": "2024-10-16T12:36:44.393563Z",
     "start_time": "2024-10-16T12:36:44.357422Z"
    },
    "execution": {
     "iopub.execute_input": "2025-06-16T13:41:55.011873Z",
     "iopub.status.busy": "2025-06-16T13:41:55.011873Z",
     "iopub.status.idle": "2025-06-16T13:41:55.044364Z",
     "shell.execute_reply": "2025-06-16T13:41:55.044364Z",
     "shell.execute_reply.started": "2025-06-16T13:41:55.011873Z"
    }
   },
   "outputs": [],
   "source": [
    "import pandas as pd\n",
    "df = pd.read_csv('air pollution.csv')"
   ]
  },
  {
   "cell_type": "code",
   "execution_count": 8,
   "id": "69ae70ca",
   "metadata": {
    "ExecuteTime": {
     "end_time": "2024-10-16T12:36:46.645711Z",
     "start_time": "2024-10-16T12:36:46.632120Z"
    },
    "execution": {
     "iopub.execute_input": "2025-06-16T13:41:55.438402Z",
     "iopub.status.busy": "2025-06-16T13:41:55.437437Z",
     "iopub.status.idle": "2025-06-16T13:41:55.448776Z",
     "shell.execute_reply": "2025-06-16T13:41:55.448776Z",
     "shell.execute_reply.started": "2025-06-16T13:41:55.437437Z"
    }
   },
   "outputs": [
    {
     "data": {
      "text/html": [
       "<div>\n",
       "<style scoped>\n",
       "    .dataframe tbody tr th:only-of-type {\n",
       "        vertical-align: middle;\n",
       "    }\n",
       "\n",
       "    .dataframe tbody tr th {\n",
       "        vertical-align: top;\n",
       "    }\n",
       "\n",
       "    .dataframe thead th {\n",
       "        text-align: right;\n",
       "    }\n",
       "</style>\n",
       "<table border=\"1\" class=\"dataframe\">\n",
       "  <thead>\n",
       "    <tr style=\"text-align: right;\">\n",
       "      <th></th>\n",
       "      <th>Country Name</th>\n",
       "      <th>City</th>\n",
       "      <th>Year</th>\n",
       "      <th>PM2.5 (μg/m3)</th>\n",
       "      <th>PM10 (μg/m3)</th>\n",
       "      <th>NO2 (μg/m3)</th>\n",
       "      <th>PM25 temporal coverage (%)</th>\n",
       "      <th>PM10 temporal coverage (%)</th>\n",
       "      <th>NO2 temporal coverage (%)</th>\n",
       "      <th>Updated Year</th>\n",
       "    </tr>\n",
       "  </thead>\n",
       "  <tbody>\n",
       "    <tr>\n",
       "      <th>0</th>\n",
       "      <td>Afghanistan</td>\n",
       "      <td>Kabul</td>\n",
       "      <td>2019.0</td>\n",
       "      <td>119.77</td>\n",
       "      <td>NaN</td>\n",
       "      <td>NaN</td>\n",
       "      <td>18.0</td>\n",
       "      <td>NaN</td>\n",
       "      <td>NaN</td>\n",
       "      <td>2022.0</td>\n",
       "    </tr>\n",
       "    <tr>\n",
       "      <th>1</th>\n",
       "      <td>Albania</td>\n",
       "      <td>Durres</td>\n",
       "      <td>2015.0</td>\n",
       "      <td>NaN</td>\n",
       "      <td>17.65</td>\n",
       "      <td>26.63</td>\n",
       "      <td>NaN</td>\n",
       "      <td>NaN</td>\n",
       "      <td>83.961187</td>\n",
       "      <td>2022.0</td>\n",
       "    </tr>\n",
       "    <tr>\n",
       "      <th>2</th>\n",
       "      <td>Albania</td>\n",
       "      <td>Durres</td>\n",
       "      <td>2016.0</td>\n",
       "      <td>14.32</td>\n",
       "      <td>24.56</td>\n",
       "      <td>24.78</td>\n",
       "      <td>NaN</td>\n",
       "      <td>NaN</td>\n",
       "      <td>87.932605</td>\n",
       "      <td>2022.0</td>\n",
       "    </tr>\n",
       "    <tr>\n",
       "      <th>3</th>\n",
       "      <td>Albania</td>\n",
       "      <td>Elbasan</td>\n",
       "      <td>2015.0</td>\n",
       "      <td>NaN</td>\n",
       "      <td>NaN</td>\n",
       "      <td>23.96</td>\n",
       "      <td>NaN</td>\n",
       "      <td>NaN</td>\n",
       "      <td>97.853881</td>\n",
       "      <td>2022.0</td>\n",
       "    </tr>\n",
       "    <tr>\n",
       "      <th>4</th>\n",
       "      <td>Albania</td>\n",
       "      <td>Elbasan</td>\n",
       "      <td>2016.0</td>\n",
       "      <td>NaN</td>\n",
       "      <td>NaN</td>\n",
       "      <td>26.26</td>\n",
       "      <td>NaN</td>\n",
       "      <td>NaN</td>\n",
       "      <td>96.049636</td>\n",
       "      <td>2022.0</td>\n",
       "    </tr>\n",
       "    <tr>\n",
       "      <th>...</th>\n",
       "      <td>...</td>\n",
       "      <td>...</td>\n",
       "      <td>...</td>\n",
       "      <td>...</td>\n",
       "      <td>...</td>\n",
       "      <td>...</td>\n",
       "      <td>...</td>\n",
       "      <td>...</td>\n",
       "      <td>...</td>\n",
       "      <td>...</td>\n",
       "    </tr>\n",
       "    <tr>\n",
       "      <th>32186</th>\n",
       "      <td>Viet Nam</td>\n",
       "      <td>Nha Trang</td>\n",
       "      <td>2013.0</td>\n",
       "      <td>NaN</td>\n",
       "      <td>30.00</td>\n",
       "      <td>NaN</td>\n",
       "      <td>NaN</td>\n",
       "      <td>NaN</td>\n",
       "      <td>NaN</td>\n",
       "      <td>2018.0</td>\n",
       "    </tr>\n",
       "    <tr>\n",
       "      <th>32187</th>\n",
       "      <td>Viet Nam</td>\n",
       "      <td>Nha Trang</td>\n",
       "      <td>2014.0</td>\n",
       "      <td>NaN</td>\n",
       "      <td>12.00</td>\n",
       "      <td>NaN</td>\n",
       "      <td>NaN</td>\n",
       "      <td>NaN</td>\n",
       "      <td>NaN</td>\n",
       "      <td>2018.0</td>\n",
       "    </tr>\n",
       "    <tr>\n",
       "      <th>32188</th>\n",
       "      <td>Viet Nam</td>\n",
       "      <td>Nha Trang</td>\n",
       "      <td>2015.0</td>\n",
       "      <td>NaN</td>\n",
       "      <td>14.00</td>\n",
       "      <td>NaN</td>\n",
       "      <td>NaN</td>\n",
       "      <td>NaN</td>\n",
       "      <td>NaN</td>\n",
       "      <td>2018.0</td>\n",
       "    </tr>\n",
       "    <tr>\n",
       "      <th>32189</th>\n",
       "      <td>Viet Nam</td>\n",
       "      <td>Viet Tri</td>\n",
       "      <td>2013.0</td>\n",
       "      <td>NaN</td>\n",
       "      <td>27.00</td>\n",
       "      <td>NaN</td>\n",
       "      <td>NaN</td>\n",
       "      <td>NaN</td>\n",
       "      <td>NaN</td>\n",
       "      <td>2018.0</td>\n",
       "    </tr>\n",
       "    <tr>\n",
       "      <th>32190</th>\n",
       "      <td>Viet Nam</td>\n",
       "      <td>Viet Tri</td>\n",
       "      <td>2014.0</td>\n",
       "      <td>NaN</td>\n",
       "      <td>22.00</td>\n",
       "      <td>NaN</td>\n",
       "      <td>NaN</td>\n",
       "      <td>NaN</td>\n",
       "      <td>NaN</td>\n",
       "      <td>2018.0</td>\n",
       "    </tr>\n",
       "  </tbody>\n",
       "</table>\n",
       "<p>32191 rows × 10 columns</p>\n",
       "</div>"
      ],
      "text/plain": [
       "      Country Name       City    Year  PM2.5 (μg/m3)  PM10 (μg/m3)  \\\n",
       "0      Afghanistan      Kabul  2019.0         119.77           NaN   \n",
       "1          Albania     Durres  2015.0            NaN         17.65   \n",
       "2          Albania     Durres  2016.0          14.32         24.56   \n",
       "3          Albania    Elbasan  2015.0            NaN           NaN   \n",
       "4          Albania    Elbasan  2016.0            NaN           NaN   \n",
       "...            ...        ...     ...            ...           ...   \n",
       "32186     Viet Nam  Nha Trang  2013.0            NaN         30.00   \n",
       "32187     Viet Nam  Nha Trang  2014.0            NaN         12.00   \n",
       "32188     Viet Nam  Nha Trang  2015.0            NaN         14.00   \n",
       "32189     Viet Nam   Viet Tri  2013.0            NaN         27.00   \n",
       "32190     Viet Nam   Viet Tri  2014.0            NaN         22.00   \n",
       "\n",
       "       NO2 (μg/m3)  PM25 temporal coverage (%)  PM10 temporal coverage (%)  \\\n",
       "0              NaN                        18.0                         NaN   \n",
       "1            26.63                         NaN                         NaN   \n",
       "2            24.78                         NaN                         NaN   \n",
       "3            23.96                         NaN                         NaN   \n",
       "4            26.26                         NaN                         NaN   \n",
       "...            ...                         ...                         ...   \n",
       "32186          NaN                         NaN                         NaN   \n",
       "32187          NaN                         NaN                         NaN   \n",
       "32188          NaN                         NaN                         NaN   \n",
       "32189          NaN                         NaN                         NaN   \n",
       "32190          NaN                         NaN                         NaN   \n",
       "\n",
       "       NO2 temporal coverage (%)  Updated Year  \n",
       "0                            NaN        2022.0  \n",
       "1                      83.961187        2022.0  \n",
       "2                      87.932605        2022.0  \n",
       "3                      97.853881        2022.0  \n",
       "4                      96.049636        2022.0  \n",
       "...                          ...           ...  \n",
       "32186                        NaN        2018.0  \n",
       "32187                        NaN        2018.0  \n",
       "32188                        NaN        2018.0  \n",
       "32189                        NaN        2018.0  \n",
       "32190                        NaN        2018.0  \n",
       "\n",
       "[32191 rows x 10 columns]"
      ]
     },
     "execution_count": 8,
     "metadata": {},
     "output_type": "execute_result"
    }
   ],
   "source": [
    "df"
   ]
  },
  {
   "cell_type": "code",
   "execution_count": 10,
   "id": "4b784412-ca86-4aa3-944c-668227fbe650",
   "metadata": {
    "execution": {
     "iopub.execute_input": "2025-06-16T13:43:37.609928Z",
     "iopub.status.busy": "2025-06-16T13:43:37.609928Z",
     "iopub.status.idle": "2025-06-16T13:43:37.615795Z",
     "shell.execute_reply": "2025-06-16T13:43:37.615795Z",
     "shell.execute_reply.started": "2025-06-16T13:43:37.609928Z"
    }
   },
   "outputs": [
    {
     "data": {
      "text/plain": [
       "Country Name                   object\n",
       "City                           object\n",
       "Year                          float64\n",
       "PM2.5 (μg/m3)                 float64\n",
       "PM10 (μg/m3)                  float64\n",
       "NO2 (μg/m3)                   float64\n",
       "PM25 temporal coverage (%)    float64\n",
       "PM10 temporal coverage (%)    float64\n",
       "NO2 temporal coverage (%)     float64\n",
       "Updated Year                  float64\n",
       "dtype: object"
      ]
     },
     "execution_count": 10,
     "metadata": {},
     "output_type": "execute_result"
    }
   ],
   "source": [
    "df.dtypes"
   ]
  },
  {
   "cell_type": "code",
   "execution_count": null,
   "id": "4e5de613",
   "metadata": {
    "ExecuteTime": {
     "end_time": "2024-10-16T12:37:18.834758Z",
     "start_time": "2024-10-16T12:37:17.365146Z"
    },
    "execution": {
     "execution_failed": "2025-06-16T16:03:20.373Z",
     "iopub.execute_input": "2025-06-16T13:43:56.879254Z",
     "iopub.status.busy": "2025-06-16T13:43:56.878250Z"
    }
   },
   "outputs": [
    {
     "name": "stderr",
     "output_type": "stream",
     "text": [
      "C:\\Users\\Utente\\anaconda3\\Lib\\site-packages\\bar_chart_race\\_make_chart.py:889: FutureWarning: Series.fillna with 'method' is deprecated and will raise in a future version. Use obj.ffill() or obj.bfill() instead.\n",
      "  df_values.iloc[:, 0] = df_values.iloc[:, 0].fillna(method='ffill')\n",
      "C:\\Users\\Utente\\anaconda3\\Lib\\site-packages\\bar_chart_race\\_make_chart.py:286: UserWarning: set_ticklabels() should only be used with a fixed number of ticks, i.e. after set_ticks() or using a FixedLocator.\n",
      "  ax.set_yticklabels(self.df_values.columns)\n",
      "C:\\Users\\Utente\\anaconda3\\Lib\\site-packages\\bar_chart_race\\_make_chart.py:287: UserWarning: set_ticklabels() should only be used with a fixed number of ticks, i.e. after set_ticks() or using a FixedLocator.\n",
      "  ax.set_xticklabels([max_val] * len(ax.get_xticks()))\n"
     ]
    }
   ],
   "source": [
    "bcr.bar_chart_race(\n",
    "    df=df.select_dtypes('number'), \n",
    "    title='Inquinamento',\n",
    "    filename=None  # oppure \"output.mp4\" se vuoi salvare il video\n",
    ")"
   ]
  },
  {
   "cell_type": "markdown",
   "id": "fc4365f1",
   "metadata": {},
   "source": [
    "# Diagrammi a bolla animati"
   ]
  },
  {
   "cell_type": "code",
   "execution_count": 1,
   "id": "be390860",
   "metadata": {
    "ExecuteTime": {
     "end_time": "2024-04-30T12:23:07.988486Z",
     "start_time": "2024-04-30T12:23:07.983256Z"
    }
   },
   "outputs": [
    {
     "data": {
      "text/html": [
       "\n",
       "        <iframe\n",
       "            width=\"1000\"\n",
       "            height=\"600\"\n",
       "            src=\"Moving Bubbles Chart.pdf\"\n",
       "            frameborder=\"0\"\n",
       "            allowfullscreen\n",
       "            \n",
       "        ></iframe>\n",
       "        "
      ],
      "text/plain": [
       "<IPython.lib.display.IFrame at 0x29db3d3f490>"
      ]
     },
     "execution_count": 1,
     "metadata": {},
     "output_type": "execute_result"
    }
   ],
   "source": [
    "from IPython.display import IFrame\n",
    "IFrame(\"Moving Bubbles Chart.pdf\", width=1000, height=600)"
   ]
  },
  {
   "cell_type": "code",
   "execution_count": 5,
   "id": "9b5224d0",
   "metadata": {
    "ExecuteTime": {
     "end_time": "2024-10-16T12:37:30.504540Z",
     "start_time": "2024-10-16T12:37:25.942825Z"
    }
   },
   "outputs": [
    {
     "name": "stdout",
     "output_type": "stream",
     "text": [
      "Requirement already satisfied: d3blocks in c:\\users\\utente\\anaconda3\\lib\\site-packages (1.4.10)\n",
      "Requirement already satisfied: numpy in c:\\users\\utente\\anaconda3\\lib\\site-packages (from d3blocks) (1.26.4)\n",
      "Requirement already satisfied: colourmap>=1.1.10 in c:\\users\\utente\\anaconda3\\lib\\site-packages (from d3blocks) (1.1.16)\n",
      "Requirement already satisfied: datazets>=0.1.7 in c:\\users\\utente\\anaconda3\\lib\\site-packages (from d3blocks) (0.1.9)\n",
      "Requirement already satisfied: d3graph>=2.4.16 in c:\\users\\utente\\anaconda3\\lib\\site-packages (from d3blocks) (2.5.0)\n",
      "Requirement already satisfied: elasticgraph>=0.1.2 in c:\\users\\utente\\anaconda3\\lib\\site-packages (from d3blocks) (0.2.0)\n",
      "Requirement already satisfied: ismember>=1.0.1 in c:\\users\\utente\\anaconda3\\lib\\site-packages (from d3blocks) (1.0.3)\n",
      "Requirement already satisfied: pandas in c:\\users\\utente\\anaconda3\\lib\\site-packages (from d3blocks) (2.1.4)\n",
      "Requirement already satisfied: tqdm in c:\\users\\utente\\anaconda3\\lib\\site-packages (from d3blocks) (4.65.0)\n",
      "Requirement already satisfied: requests in c:\\users\\utente\\anaconda3\\lib\\site-packages (from d3blocks) (2.31.0)\n",
      "Requirement already satisfied: scikit-learn in c:\\users\\utente\\appdata\\roaming\\python\\python311\\site-packages (from d3blocks) (1.4.2)\n",
      "Requirement already satisfied: jinja2 in c:\\users\\utente\\anaconda3\\lib\\site-packages (from d3blocks) (3.1.3)\n",
      "Requirement already satisfied: matplotlib in c:\\users\\utente\\anaconda3\\lib\\site-packages (from colourmap>=1.1.10->d3blocks) (3.8.4)\n",
      "Requirement already satisfied: networkx>2 in c:\\users\\utente\\anaconda3\\lib\\site-packages (from d3graph>=2.4.16->d3blocks) (3.1)\n",
      "Requirement already satisfied: packaging in c:\\users\\utente\\appdata\\roaming\\python\\python311\\site-packages (from d3graph>=2.4.16->d3blocks) (23.2)\n",
      "Requirement already satisfied: markupsafe==2.0.1 in c:\\users\\utente\\anaconda3\\lib\\site-packages (from d3graph>=2.4.16->d3blocks) (2.0.1)\n",
      "Requirement already satisfied: python-louvain in c:\\users\\utente\\anaconda3\\lib\\site-packages (from d3graph>=2.4.16->d3blocks) (0.16)\n",
      "Requirement already satisfied: python-dateutil>=2.8.2 in c:\\users\\utente\\anaconda3\\lib\\site-packages (from pandas->d3blocks) (2.8.2)\n",
      "Requirement already satisfied: pytz>=2020.1 in c:\\users\\utente\\anaconda3\\lib\\site-packages (from pandas->d3blocks) (2023.3.post1)\n",
      "Requirement already satisfied: tzdata>=2022.1 in c:\\users\\utente\\anaconda3\\lib\\site-packages (from pandas->d3blocks) (2023.3)\n",
      "Requirement already satisfied: charset-normalizer<4,>=2 in c:\\users\\utente\\appdata\\roaming\\python\\python311\\site-packages (from requests->d3blocks) (3.3.2)\n",
      "Requirement already satisfied: idna<4,>=2.5 in c:\\users\\utente\\anaconda3\\lib\\site-packages (from requests->d3blocks) (3.4)\n",
      "Requirement already satisfied: urllib3<3,>=1.21.1 in c:\\users\\utente\\anaconda3\\lib\\site-packages (from requests->d3blocks) (1.26.18)\n",
      "Requirement already satisfied: certifi>=2017.4.17 in c:\\users\\utente\\anaconda3\\lib\\site-packages (from requests->d3blocks) (2024.2.2)\n",
      "Requirement already satisfied: scipy>=1.6.0 in c:\\users\\utente\\appdata\\roaming\\python\\python311\\site-packages (from scikit-learn->d3blocks) (1.13.0)\n",
      "Requirement already satisfied: joblib>=1.2.0 in c:\\users\\utente\\anaconda3\\lib\\site-packages (from scikit-learn->d3blocks) (1.2.0)\n",
      "Requirement already satisfied: threadpoolctl>=2.0.0 in c:\\users\\utente\\anaconda3\\lib\\site-packages (from scikit-learn->d3blocks) (2.2.0)\n",
      "Requirement already satisfied: colorama in c:\\users\\utente\\anaconda3\\lib\\site-packages (from tqdm->d3blocks) (0.4.6)\n",
      "Requirement already satisfied: six>=1.5 in c:\\users\\utente\\anaconda3\\lib\\site-packages (from python-dateutil>=2.8.2->pandas->d3blocks) (1.16.0)\n",
      "Requirement already satisfied: contourpy>=1.0.1 in c:\\users\\utente\\anaconda3\\lib\\site-packages (from matplotlib->colourmap>=1.1.10->d3blocks) (1.2.0)\n",
      "Requirement already satisfied: cycler>=0.10 in c:\\users\\utente\\anaconda3\\lib\\site-packages (from matplotlib->colourmap>=1.1.10->d3blocks) (0.11.0)\n",
      "Requirement already satisfied: fonttools>=4.22.0 in c:\\users\\utente\\anaconda3\\lib\\site-packages (from matplotlib->colourmap>=1.1.10->d3blocks) (4.51.0)\n",
      "Requirement already satisfied: kiwisolver>=1.3.1 in c:\\users\\utente\\anaconda3\\lib\\site-packages (from matplotlib->colourmap>=1.1.10->d3blocks) (1.4.4)\n",
      "Requirement already satisfied: pillow>=8 in c:\\users\\utente\\anaconda3\\lib\\site-packages (from matplotlib->colourmap>=1.1.10->d3blocks) (10.2.0)\n",
      "Requirement already satisfied: pyparsing>=2.3.1 in c:\\users\\utente\\anaconda3\\lib\\site-packages (from matplotlib->colourmap>=1.1.10->d3blocks) (3.0.9)\n"
     ]
    },
    {
     "name": "stderr",
     "output_type": "stream",
     "text": [
      "\n",
      "[notice] A new release of pip is available: 24.0 -> 24.2\n",
      "[notice] To update, run: python.exe -m pip install --upgrade pip\n"
     ]
    }
   ],
   "source": [
    "!pip install d3blocks"
   ]
  },
  {
   "cell_type": "code",
   "execution_count": 4,
   "id": "ba8edd85",
   "metadata": {
    "ExecuteTime": {
     "end_time": "2024-04-30T12:24:53.969387Z",
     "start_time": "2024-04-30T12:24:53.966612Z"
    }
   },
   "outputs": [],
   "source": [
    "from d3blocks import D3Blocks"
   ]
  },
  {
   "cell_type": "code",
   "execution_count": 5,
   "id": "bf3eda5d",
   "metadata": {
    "ExecuteTime": {
     "end_time": "2024-04-30T12:25:10.575817Z",
     "start_time": "2024-04-30T12:25:10.572620Z"
    }
   },
   "outputs": [
    {
     "name": "stderr",
     "output_type": "stream",
     "text": [
      "[d3blocks] >INFO> Cleaning edge_properties and config parameters..\n"
     ]
    }
   ],
   "source": [
    "d3 = D3Blocks()"
   ]
  },
  {
   "cell_type": "code",
   "execution_count": 9,
   "id": "a74c3bc4",
   "metadata": {
    "ExecuteTime": {
     "end_time": "2024-04-30T12:31:37.280348Z",
     "start_time": "2024-04-30T12:31:37.231749Z"
    }
   },
   "outputs": [
    {
     "name": "stderr",
     "output_type": "stream",
     "text": [
      "[d3blocks] >INFO> Cleaning edge_properties and config parameters..\n",
      "[d3blocks] >INFO> Initializing [Movingbubbles]\n",
      "[d3blocks] >INFO> filepath is set to [C:\\Users\\Utente\\AppData\\Local\\Temp\\d3blocks\\moving.html]\n"
     ]
    },
    {
     "ename": "KeyError",
     "evalue": "'Sample State'",
     "output_type": "error",
     "traceback": [
      "\u001b[1;31m---------------------------------------------------------------------------\u001b[0m",
      "\u001b[1;31mKeyError\u001b[0m                                  Traceback (most recent call last)",
      "File \u001b[1;32m~\\AppData\\Roaming\\Python\\Python311\\site-packages\\pandas\\core\\indexes\\base.py:3805\u001b[0m, in \u001b[0;36mIndex.get_loc\u001b[1;34m(self, key)\u001b[0m\n\u001b[0;32m   3804\u001b[0m \u001b[38;5;28;01mtry\u001b[39;00m:\n\u001b[1;32m-> 3805\u001b[0m     \u001b[38;5;28;01mreturn\u001b[39;00m \u001b[38;5;28mself\u001b[39m\u001b[38;5;241m.\u001b[39m_engine\u001b[38;5;241m.\u001b[39mget_loc(casted_key)\n\u001b[0;32m   3806\u001b[0m \u001b[38;5;28;01mexcept\u001b[39;00m \u001b[38;5;167;01mKeyError\u001b[39;00m \u001b[38;5;28;01mas\u001b[39;00m err:\n",
      "File \u001b[1;32mindex.pyx:167\u001b[0m, in \u001b[0;36mpandas._libs.index.IndexEngine.get_loc\u001b[1;34m()\u001b[0m\n",
      "File \u001b[1;32mindex.pyx:196\u001b[0m, in \u001b[0;36mpandas._libs.index.IndexEngine.get_loc\u001b[1;34m()\u001b[0m\n",
      "File \u001b[1;32mpandas\\\\_libs\\\\hashtable_class_helper.pxi:7081\u001b[0m, in \u001b[0;36mpandas._libs.hashtable.PyObjectHashTable.get_item\u001b[1;34m()\u001b[0m\n",
      "File \u001b[1;32mpandas\\\\_libs\\\\hashtable_class_helper.pxi:7089\u001b[0m, in \u001b[0;36mpandas._libs.hashtable.PyObjectHashTable.get_item\u001b[1;34m()\u001b[0m\n",
      "\u001b[1;31mKeyError\u001b[0m: 'Sample State'",
      "\nThe above exception was the direct cause of the following exception:\n",
      "\u001b[1;31mKeyError\u001b[0m                                  Traceback (most recent call last)",
      "Cell \u001b[1;32mIn[9], line 1\u001b[0m\n\u001b[1;32m----> 1\u001b[0m d3\u001b[38;5;241m.\u001b[39mmovingbubbles(df,\n\u001b[0;32m      2\u001b[0m                  datetime \u001b[38;5;241m=\u001b[39m \u001b[38;5;124m\"\u001b[39m\u001b[38;5;124mTimestamp\u001b[39m\u001b[38;5;124m\"\u001b[39m,\n\u001b[0;32m      3\u001b[0m                  sample_id \u001b[38;5;241m=\u001b[39m \u001b[38;5;124m\"\u001b[39m\u001b[38;5;124mSample ID\u001b[39m\u001b[38;5;124m\"\u001b[39m,\n\u001b[0;32m      4\u001b[0m                  state \u001b[38;5;241m=\u001b[39m \u001b[38;5;124m\"\u001b[39m\u001b[38;5;124mSample State\u001b[39m\u001b[38;5;124m\"\u001b[39m,\n\u001b[0;32m      5\u001b[0m                  filepath \u001b[38;5;241m=\u001b[39m \u001b[38;5;124m\"\u001b[39m\u001b[38;5;124mmoving.html\u001b[39m\u001b[38;5;124m\"\u001b[39m)\n",
      "File \u001b[1;32m~\\anaconda3\\Lib\\site-packages\\d3blocks\\d3blocks.py:1335\u001b[0m, in \u001b[0;36mD3Blocks.movingbubbles\u001b[1;34m(self, df, datetime, sample_id, state, center, size, color, cmap, color_method, dt_format, damper, fontsize, timedelta, standardize, speed, figsize, note, time_notes, title, filepath, showfig, overwrite, notebook, save_button, reset_properties)\u001b[0m\n\u001b[0;32m   1333\u001b[0m \u001b[38;5;66;03m# Set node properties\u001b[39;00m\n\u001b[0;32m   1334\u001b[0m \u001b[38;5;28;01mif\u001b[39;00m \u001b[38;5;28mself\u001b[39m\u001b[38;5;241m.\u001b[39mconfig[\u001b[38;5;124m'\u001b[39m\u001b[38;5;124mreset_properties\u001b[39m\u001b[38;5;124m'\u001b[39m] \u001b[38;5;129;01mor\u001b[39;00m (\u001b[38;5;129;01mnot\u001b[39;00m \u001b[38;5;28mhasattr\u001b[39m(\u001b[38;5;28mself\u001b[39m, \u001b[38;5;124m'\u001b[39m\u001b[38;5;124mnode_properties\u001b[39m\u001b[38;5;124m'\u001b[39m)):\n\u001b[1;32m-> 1335\u001b[0m     \u001b[38;5;28mself\u001b[39m\u001b[38;5;241m.\u001b[39mset_node_properties(df[\u001b[38;5;28mself\u001b[39m\u001b[38;5;241m.\u001b[39mconfig[\u001b[38;5;124m'\u001b[39m\u001b[38;5;124mstate\u001b[39m\u001b[38;5;124m'\u001b[39m]]\u001b[38;5;241m.\u001b[39mvalues, center\u001b[38;5;241m=\u001b[39m\u001b[38;5;28mself\u001b[39m\u001b[38;5;241m.\u001b[39mconfig[\u001b[38;5;124m'\u001b[39m\u001b[38;5;124mcenter\u001b[39m\u001b[38;5;124m'\u001b[39m], cmap\u001b[38;5;241m=\u001b[39m\u001b[38;5;28mself\u001b[39m\u001b[38;5;241m.\u001b[39mconfig[\u001b[38;5;124m'\u001b[39m\u001b[38;5;124mcmap\u001b[39m\u001b[38;5;124m'\u001b[39m], logger\u001b[38;5;241m=\u001b[39mlogger)\n\u001b[0;32m   1336\u001b[0m \u001b[38;5;66;03m# Set edge properties\u001b[39;00m\n\u001b[0;32m   1337\u001b[0m \u001b[38;5;28mself\u001b[39m\u001b[38;5;241m.\u001b[39mset_edge_properties(df, timedelta\u001b[38;5;241m=\u001b[39m\u001b[38;5;28mself\u001b[39m\u001b[38;5;241m.\u001b[39mconfig[\u001b[38;5;124m'\u001b[39m\u001b[38;5;124mtimedelta\u001b[39m\u001b[38;5;124m'\u001b[39m], state\u001b[38;5;241m=\u001b[39m\u001b[38;5;28mself\u001b[39m\u001b[38;5;241m.\u001b[39mconfig[\u001b[38;5;124m'\u001b[39m\u001b[38;5;124mstate\u001b[39m\u001b[38;5;124m'\u001b[39m], datetime\u001b[38;5;241m=\u001b[39m\u001b[38;5;28mself\u001b[39m\u001b[38;5;241m.\u001b[39mconfig[\u001b[38;5;124m'\u001b[39m\u001b[38;5;124mdatetime\u001b[39m\u001b[38;5;124m'\u001b[39m], sample_id\u001b[38;5;241m=\u001b[39m\u001b[38;5;28mself\u001b[39m\u001b[38;5;241m.\u001b[39mconfig[\u001b[38;5;124m'\u001b[39m\u001b[38;5;124msample_id\u001b[39m\u001b[38;5;124m'\u001b[39m], size\u001b[38;5;241m=\u001b[39msize, color\u001b[38;5;241m=\u001b[39mcolor, standardize\u001b[38;5;241m=\u001b[39m\u001b[38;5;28mself\u001b[39m\u001b[38;5;241m.\u001b[39mconfig[\u001b[38;5;124m'\u001b[39m\u001b[38;5;124mstandardize\u001b[39m\u001b[38;5;124m'\u001b[39m], dt_format\u001b[38;5;241m=\u001b[39m\u001b[38;5;28mself\u001b[39m\u001b[38;5;241m.\u001b[39mconfig[\u001b[38;5;124m'\u001b[39m\u001b[38;5;124mdt_format\u001b[39m\u001b[38;5;124m'\u001b[39m], logger\u001b[38;5;241m=\u001b[39mlogger)\n",
      "File \u001b[1;32m~\\AppData\\Roaming\\Python\\Python311\\site-packages\\pandas\\core\\frame.py:4102\u001b[0m, in \u001b[0;36mDataFrame.__getitem__\u001b[1;34m(self, key)\u001b[0m\n\u001b[0;32m   4100\u001b[0m \u001b[38;5;28;01mif\u001b[39;00m \u001b[38;5;28mself\u001b[39m\u001b[38;5;241m.\u001b[39mcolumns\u001b[38;5;241m.\u001b[39mnlevels \u001b[38;5;241m>\u001b[39m \u001b[38;5;241m1\u001b[39m:\n\u001b[0;32m   4101\u001b[0m     \u001b[38;5;28;01mreturn\u001b[39;00m \u001b[38;5;28mself\u001b[39m\u001b[38;5;241m.\u001b[39m_getitem_multilevel(key)\n\u001b[1;32m-> 4102\u001b[0m indexer \u001b[38;5;241m=\u001b[39m \u001b[38;5;28mself\u001b[39m\u001b[38;5;241m.\u001b[39mcolumns\u001b[38;5;241m.\u001b[39mget_loc(key)\n\u001b[0;32m   4103\u001b[0m \u001b[38;5;28;01mif\u001b[39;00m is_integer(indexer):\n\u001b[0;32m   4104\u001b[0m     indexer \u001b[38;5;241m=\u001b[39m [indexer]\n",
      "File \u001b[1;32m~\\AppData\\Roaming\\Python\\Python311\\site-packages\\pandas\\core\\indexes\\base.py:3812\u001b[0m, in \u001b[0;36mIndex.get_loc\u001b[1;34m(self, key)\u001b[0m\n\u001b[0;32m   3807\u001b[0m     \u001b[38;5;28;01mif\u001b[39;00m \u001b[38;5;28misinstance\u001b[39m(casted_key, \u001b[38;5;28mslice\u001b[39m) \u001b[38;5;129;01mor\u001b[39;00m (\n\u001b[0;32m   3808\u001b[0m         \u001b[38;5;28misinstance\u001b[39m(casted_key, abc\u001b[38;5;241m.\u001b[39mIterable)\n\u001b[0;32m   3809\u001b[0m         \u001b[38;5;129;01mand\u001b[39;00m \u001b[38;5;28many\u001b[39m(\u001b[38;5;28misinstance\u001b[39m(x, \u001b[38;5;28mslice\u001b[39m) \u001b[38;5;28;01mfor\u001b[39;00m x \u001b[38;5;129;01min\u001b[39;00m casted_key)\n\u001b[0;32m   3810\u001b[0m     ):\n\u001b[0;32m   3811\u001b[0m         \u001b[38;5;28;01mraise\u001b[39;00m InvalidIndexError(key)\n\u001b[1;32m-> 3812\u001b[0m     \u001b[38;5;28;01mraise\u001b[39;00m \u001b[38;5;167;01mKeyError\u001b[39;00m(key) \u001b[38;5;28;01mfrom\u001b[39;00m \u001b[38;5;21;01merr\u001b[39;00m\n\u001b[0;32m   3813\u001b[0m \u001b[38;5;28;01mexcept\u001b[39;00m \u001b[38;5;167;01mTypeError\u001b[39;00m:\n\u001b[0;32m   3814\u001b[0m     \u001b[38;5;66;03m# If we have a listlike key, _check_indexing_error will raise\u001b[39;00m\n\u001b[0;32m   3815\u001b[0m     \u001b[38;5;66;03m#  InvalidIndexError. Otherwise we fall through and re-raise\u001b[39;00m\n\u001b[0;32m   3816\u001b[0m     \u001b[38;5;66;03m#  the TypeError.\u001b[39;00m\n\u001b[0;32m   3817\u001b[0m     \u001b[38;5;28mself\u001b[39m\u001b[38;5;241m.\u001b[39m_check_indexing_error(key)\n",
      "\u001b[1;31mKeyError\u001b[0m: 'Sample State'"
     ]
    }
   ],
   "source": [
    "d3.movingbubbles(df,\n",
    "                 datetime = \"Timestamp\",\n",
    "                 sample_id = \"Sample ID\",\n",
    "                 state = \"Sample State\",\n",
    "                 filepath = \"moving.html\")"
   ]
  },
  {
   "cell_type": "code",
   "execution_count": null,
   "id": "63e609f2",
   "metadata": {},
   "outputs": [],
   "source": []
  }
 ],
 "metadata": {
  "kernelspec": {
   "display_name": "Python 3 (ipykernel)",
   "language": "python",
   "name": "python3"
  },
  "language_info": {
   "codemirror_mode": {
    "name": "ipython",
    "version": 3
   },
   "file_extension": ".py",
   "mimetype": "text/x-python",
   "name": "python",
   "nbconvert_exporter": "python",
   "pygments_lexer": "ipython3",
   "version": "3.12.7"
  },
  "toc": {
   "base_numbering": 1,
   "nav_menu": {},
   "number_sections": true,
   "sideBar": true,
   "skip_h1_title": false,
   "title_cell": "Table of Contents",
   "title_sidebar": "Contents",
   "toc_cell": false,
   "toc_position": {},
   "toc_section_display": true,
   "toc_window_display": false
  },
  "varInspector": {
   "cols": {
    "lenName": 16,
    "lenType": 16,
    "lenVar": 40
   },
   "kernels_config": {
    "python": {
     "delete_cmd_postfix": "",
     "delete_cmd_prefix": "del ",
     "library": "var_list.py",
     "varRefreshCmd": "print(var_dic_list())"
    },
    "r": {
     "delete_cmd_postfix": ") ",
     "delete_cmd_prefix": "rm(",
     "library": "var_list.r",
     "varRefreshCmd": "cat(var_dic_list()) "
    }
   },
   "types_to_exclude": [
    "module",
    "function",
    "builtin_function_or_method",
    "instance",
    "_Feature"
   ],
   "window_display": false
  }
 },
 "nbformat": 4,
 "nbformat_minor": 5
}
