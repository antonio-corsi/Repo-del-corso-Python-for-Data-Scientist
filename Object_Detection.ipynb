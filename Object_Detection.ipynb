{
 "cells": [
  {
   "cell_type": "markdown",
   "id": "ba157a6b-1473-49f3-b018-a1500fb4831e",
   "metadata": {
    "execution": {
     "iopub.execute_input": "2025-07-03T06:47:34.263042Z",
     "iopub.status.busy": "2025-07-03T06:47:34.262850Z",
     "iopub.status.idle": "2025-07-03T06:47:34.268380Z",
     "shell.execute_reply": "2025-07-03T06:47:34.267902Z",
     "shell.execute_reply.started": "2025-07-03T06:47:34.263026Z"
    },
    "id": "ba157a6b-1473-49f3-b018-a1500fb4831e"
   },
   "source": [
    "<font size=\"5\">**[Object Detection](https://en.wikipedia.org/wiki/Object_detection) con YOLO**.<br>\n",
    "\n",
    "> (c) 2025 Antonio Piemontese\n",
    "\n",
    "# Un sistema di video-sorveglianza\n"
   ]
  },
  {
   "cell_type": "markdown",
   "id": "4709ddef-77f8-4dbd-9efb-cffb4a4dcf90",
   "metadata": {},
   "source": [
    "Ecco come costruire **un sistema di videosorveglianza** intelligente e personalizzato per la casa o per il condominio.<br>\n",
    "Il notebook mostra come installare gratuitamente un sistema di videosorveglianza capace di identificare e contare oggetti e persone in tempo reale, utilizzando solo una webcam e un computer. Nessun costo aggiuntivo per hardware complesso o software costosi.<br>\n",
    "Basta qualche passo, Python e YOLO11 Ultralitycs per trasformare immediatamente la webcam in una sofisticata telecamera di sorveglianza professionale con riconoscimento degli oggetti.\n",
    "\n",
    "**Cosa si può fare con questo sistema di videosorveglianza?**<br>\n",
    "Le applicazioni sono moltissime:\n",
    "- sorveglianza esterna e interna: ideale per casa, condominio o attività commerciale.\n",
    "- rilevamento intelligente: ricevi notifiche immediate se delle persone o animali entrano nell’area sorvegliata.\n",
    "- automazioni avanzate: integra facilmente l’invio automatico di notifiche email o chat \n",
    "\n",
    "**Requisiti**:\n",
    "- una webcam collegata al computer\n",
    "- Python installato\n",
    "- la libreria PyTorch per gestire il deep learning sul processore CPU\n",
    "- il software YOLO11 di Ultralytics, l’ultimo standard per il riconoscimento degli oggetti con intelligenza artificiale."
   ]
  },
  {
   "cell_type": "markdown",
   "id": "5HZ9WWe-E-vN",
   "metadata": {
    "id": "5HZ9WWe-E-vN"
   },
   "source": [
    "---\n",
    "Il notebook è  configurato in modo da funzionare in Jupyter Notebook oppure in Google Colab. L'elaborazione di grandi video è accelerata dalla disponibilità di una GPU.\n",
    "\n",
    "---"
   ]
  },
  {
   "cell_type": "markdown",
   "id": "iN2sNoPa33MN",
   "metadata": {
    "id": "iN2sNoPa33MN"
   },
   "source": [
    "Come prima cosa, quindi, **rileviamo l'ambiente di esecuzione del notebook** (Jupyter oppure Google Colab: la cella imposta una variabile booleana `IN_COLAB` che sarà testata da alcune celle del notebook (in particolare quelle di visualizzazione di immagini) per personalizzarne il comportamento a seconda dell'ambiente di esecuzione dell'ambiente rilevato."
   ]
  },
  {
   "cell_type": "code",
   "execution_count": 1,
   "id": "E5unK3Df3741",
   "metadata": {
    "colab": {
     "base_uri": "https://localhost:8080/"
    },
    "execution": {
     "iopub.execute_input": "2025-10-09T16:35:36.393352Z",
     "iopub.status.busy": "2025-10-09T16:35:36.393161Z",
     "iopub.status.idle": "2025-10-09T16:35:36.398817Z",
     "shell.execute_reply": "2025-10-09T16:35:36.398311Z",
     "shell.execute_reply.started": "2025-10-09T16:35:36.393338Z"
    },
    "id": "E5unK3Df3741",
    "outputId": "d967b6e2-08e9-44e0-d15b-f85bc17bcbee"
   },
   "outputs": [
    {
     "name": "stdout",
     "output_type": "stream",
     "text": [
      "Siamo in Colab: False\n"
     ]
    }
   ],
   "source": [
    "# impostazione del TOGGLE BINARIO:\n",
    "try:\n",
    "    import google.colab                      # package disponibile SOLO in Google Colab\n",
    "    IN_COLAB = True\n",
    "except ImportError:\n",
    "    IN_COLAB = False\n",
    "\n",
    "print(\"Siamo in Colab:\", IN_COLAB)\n",
    "\n",
    "\n",
    "# IMPORT dei package necessari per la VISUALIZZAZIONE delle IMMAGINI (necessari sia in JN che in Colab):\n",
    "from IPython.display import Image, display   # import dei package di incorporamento e visualizzazione immagine (una tantum)\n",
    "                                             # Image e display sono entrambi necessari a Jupyter Notebook\n",
    "                                             # Google Colab utilizza solo Image\n",
    "import os                                    # necessario a Google Colab per vedere da una cella codice\n",
    "                                             # i contenuti del 'content'"
   ]
  },
  {
   "cell_type": "markdown",
   "id": "XFvFXIzE4UL_",
   "metadata": {
    "id": "XFvFXIzE4UL_"
   },
   "source": [
    "Le immagini utilizzate in questo notebook, da caricare nella memoria di sessione, sono:\n",
    "- `modelli_YOLOv8.png`\n",
    "- `modelli_YOLOv8_costi.png`"
   ]
  },
  {
   "cell_type": "markdown",
   "id": "0ad23acb-78cf-4efe-8f25-988e3731d1a5",
   "metadata": {
    "id": "0ad23acb-78cf-4efe-8f25-988e3731d1a5"
   },
   "source": [
    "# Introduzione"
   ]
  },
  {
   "cell_type": "markdown",
   "id": "97770e49-ce63-4c72-80fe-09a1a0b9bb76",
   "metadata": {
    "id": "97770e49-ce63-4c72-80fe-09a1a0b9bb76"
   },
   "source": [
    "Usiamo `YOLO` v8 (di Ultralytics). Vedi la [voce Wikipedia su YOLO](https://en.wikipedia.org/wiki/You_Only_Look_Once).<br>\n",
    "Vedi il [sito di Ultralytics](https://www.ultralytics.com/) e la [pagina di Ultralytics sulla *object detection*](https://docs.ultralytics.com/tasks/detect/).\n",
    "YOLO è un **approccio**, **una tecnologia**; Ultralytics è una **software house** che ha implementato lo standard YOLO (che evolve di continuo: v8 del 2023, v9 del 2024)."
   ]
  },
  {
   "cell_type": "markdown",
   "id": "98f758c4-70ab-41fd-8f26-e2ba3ab2edb3",
   "metadata": {
    "id": "98f758c4-70ab-41fd-8f26-e2ba3ab2edb3"
   },
   "source": [
    "YOLO (You Only Look Once) è una famiglia di modelli di **deep learning (reti neurali profonde) per object detection** (in particolare [reti CNN](https://it.wikipedia.org/wiki/Rete_neurale_convoluzionale)) **in tempo reale**, e nel corso degli anni si è evoluta attraverso molte versioni, ciascuna con **tecnologie diverse**. Riassumiamo le **tecnologie chiave** usate in generale, poi focalizziamoci  sulle versioni più recenti (come YOLOv5–**v8** e YOLO-NAS).\n",
    "\n",
    "---\n",
    "\n",
    "In generale, YOLO usa:\n",
    "\n",
    "1. **Reti Neurali Convoluzionali (CNN)**\n",
    "\n",
    "È la base di tutti i modelli YOLO. Le CNN sono ideali per analizzare immagini (e quindi anche video) grazie alla loro capacità di estrarre automaticamente feature spaziali.\n",
    "\n",
    "2. **Single-Shot Detection**\n",
    "\n",
    "YOLO fa **una sola previsione (*prediction*) per immagine** (\"you only look once\"), dividendo l'immagine in griglie e predicendo, per ogni cella, le **bounding box**, le **classi** e la **confidenza** della classificazione.\n",
    "\n",
    "3. **Anchor Boxes**\n",
    "\n",
    "Usate per migliorare la predizione di oggetti con proporzioni diverse (es. un autobus vs un semaforo).\n",
    "\n",
    "---\n",
    "\n",
    "**Tecnologie specifiche per versione**:\n",
    "\n",
    "YOLOv1–v3 (Darknet)\n",
    "\n",
    "* Scritto in C e CUDA (framework chiamato **Darknet**)\n",
    "* Usa CNN standard (es. Darknet-19, Darknet-53)\n",
    "* Più veloce, meno accurato rispetto a modelli moderni\n",
    "\n",
    "YOLOv4 (AlexeyAB fork)\n",
    "\n",
    "* Aggiunge tecniche di **training bag of freebies/tricks**\n",
    "* Include **Mish activation**, **CSPNet**, **Squeeze-and-Excitation**\n",
    "\n",
    "YOLOv5 (Ultralytics, in PyTorch) - **la svolta**\n",
    "\n",
    "* Codice 100% in **Python + PyTorch** (la libreria di deep learning più diffusa, completamente open-source, realizzata da Meta)\n",
    "* Modularità, facilità d’uso, supporto a GPU/CPU\n",
    "* Augmentazioni: Mosaic, MixUp\n",
    "* Varianti da YOLOv5s (small) a YOLOv5x (extra large)\n",
    "\n",
    "YOLOv6 / v7 / v8\n",
    "\n",
    "* YOLOv6: orientato alla produzione, TensorRT-friendly\n",
    "* YOLOv7: supporto per **task multipli** (detection, pose, segmentation)\n",
    "* **YOLOv8 (Ultralytics)**: riscrittura più pulita, supporta anche:\n",
    "\n",
    "  * Object Detection\n",
    "  * Semantic Segmentation\n",
    "  * Instance Segmentation\n",
    "  * Pose Estimation\n",
    "  * Classificazione\n",
    "\n",
    "È **quella che useremo**: il modello infatti è in `.pt` e usi `YOLO(...)`.\n",
    "\n",
    "**YOLOv9** è stato rilasciato nel 2024 e porta importanti miglioramenti.\n",
    "\n",
    "YOLO-NAS (Neural Architecture Search)\n",
    "\n",
    "* Proposto da **Deci AI**\n",
    "* Basato su **NAS**: la rete è \"ottimizzata automaticamente\"\n",
    "* Più accurato e veloce rispetto alle versioni precedenti, con attenzione alle prestazioni su dispositivi edge\n",
    "\n",
    "---\n",
    "\n",
    "Backend tecnologici recenti\n",
    "\n",
    "| Tecnologia          | Dettagli                                  |\n",
    "| ------------------- | ----------------------------------------- |\n",
    "| **PyTorch**         | usato da YOLOv5, YOLOv8 (Ultralytics)     |\n",
    "| **ONNX / TensorRT** | esportazione per inferenza ottimizzata    |\n",
    "| **OpenCV**          | usato per video processing e I/O immagini |\n",
    "| **TorchScript**     | usato per ottimizzare i modelli PyTorch   |\n",
    "| **CUDA / cuDNN**    | se usi GPU NVIDIA                         |\n",
    "\n",
    "---\n",
    "\n",
    "YOLO è veloce perché…\n",
    "\n",
    "* Tutta la detection avviene **in una sola passata** (vs modelli two-stage come Faster R-CNN)\n",
    "* È ottimizzato per inferenza real-time, anche su hardware non super potente\n",
    "\n",
    "NB. Nel mondo del Deep Learning, per \"inferenza\" si intende l'utilizzo di una rete pre-allenata.\n",
    "\n",
    "---\n",
    "\n"
   ]
  },
  {
   "cell_type": "markdown",
   "id": "fcec8c52-6aa3-400a-8e6d-e77ca465e4dc",
   "metadata": {
    "id": "fcec8c52-6aa3-400a-8e6d-e77ca465e4dc"
   },
   "source": [
    "# Installazioni per Jupyter Notebook\n",
    "Da un prompt anaconda, attivo sull'ambiente virtuale di vostra scelta (comunque lo stesso del kernel di Jupyter Notebook)."
   ]
  },
  {
   "cell_type": "markdown",
   "id": "9d7d3dc5-ec30-4e69-be60-2538d9cac63d",
   "metadata": {
    "id": "9d7d3dc5-ec30-4e69-be60-2538d9cac63d"
   },
   "source": [
    "Per sicurezza, come prima cosa, disinstalliamo PyTorch, la libreria di Deep Learning open-source di Meta. Vedi [qui](https://pytorch.org/).\n",
    "\n",
    "PyTorch è il porting su Python della libreria Torch. PyTorch ha oggi più successo di Torch (l'allievo ha superato il maestro). Gli sviluppatori di Meta, in omaggio a Torch, hanno chiamato la libreria PyTorch `Torch`. `PyTorch` è solo il termine conevenzionale di riferimento, ma **la installazione e la import la si fa di torch**."
   ]
  },
  {
   "cell_type": "code",
   "execution_count": 2,
   "id": "51538334-8e59-436e-aded-64e64e0f873b",
   "metadata": {
    "execution": {
     "iopub.execute_input": "2025-10-09T10:01:11.364984Z",
     "iopub.status.busy": "2025-10-09T10:01:11.364695Z",
     "iopub.status.idle": "2025-10-09T10:01:49.382375Z",
     "shell.execute_reply": "2025-10-09T10:01:49.381975Z",
     "shell.execute_reply.started": "2025-10-09T10:01:11.364968Z"
    },
    "id": "51538334-8e59-436e-aded-64e64e0f873b"
   },
   "outputs": [
    {
     "name": "stdout",
     "output_type": "stream",
     "text": [
      "^C\n"
     ]
    }
   ],
   "source": [
    "!pip uninstall torch torchvision torchaudio"
   ]
  },
  {
   "cell_type": "markdown",
   "id": "719fb0ae-b2d2-4952-94da-b8f7bd0ff88a",
   "metadata": {
    "id": "719fb0ae-b2d2-4952-94da-b8f7bd0ff88a"
   },
   "source": [
    "Installiamo `PyTorch` **per CPU**."
   ]
  },
  {
   "cell_type": "code",
   "execution_count": null,
   "id": "190986e7-8ab4-4475-9584-78523fe943ef",
   "metadata": {
    "id": "190986e7-8ab4-4475-9584-78523fe943ef"
   },
   "outputs": [],
   "source": [
    "!pip install torch torchvision torchaudio --index-url https://download.pytorch.org/whl/cpu"
   ]
  },
  {
   "cell_type": "markdown",
   "id": "f667157a-9fb4-407d-9b75-e5389d4b64c8",
   "metadata": {
    "id": "f667157a-9fb4-407d-9b75-e5389d4b64c8"
   },
   "source": [
    "L'output atteso (corretto) è il seguente:<br>\n",
    "`Successfully installed torch-2.7.1+cpu torchaudio-2.7.1+cpu torchvision-0.22.1+cpu`<br>\n",
    "Ha installato l'ultima versione dei 3 package **per CPU**, come chiesto da noi.\n",
    "\n",
    "La descrizione del package [PyTorch](https://pypi.org/project/pytorch/) come sempre è ricavabile consultanno l'indice ufficiale di tutti i package python: [**PyPI**](https://pypi.org/)."
   ]
  },
  {
   "cell_type": "markdown",
   "id": "309471ef-fb83-4881-9a96-2d8574336f06",
   "metadata": {
    "id": "309471ef-fb83-4881-9a96-2d8574336f06"
   },
   "source": [
    "Installazione di YOLO (nella implementazione della software house **ultralytics**):"
   ]
  },
  {
   "cell_type": "code",
   "execution_count": null,
   "id": "ea96881d-6d0f-4280-907b-f378295fdc23",
   "metadata": {
    "colab": {
     "base_uri": "https://localhost:8080/"
    },
    "id": "ea96881d-6d0f-4280-907b-f378295fdc23",
    "outputId": "3c9e4004-b59f-4d6d-dc74-e2e33888fa89"
   },
   "outputs": [],
   "source": [
    "!pip install -U ultralytics"
   ]
  },
  {
   "cell_type": "markdown",
   "id": "dc75ea30-9396-4fd1-895f-d84c5f113d87",
   "metadata": {
    "id": "dc75ea30-9396-4fd1-895f-d84c5f113d87"
   },
   "source": [
    "Invece, il seguente comando:\n",
    "\n",
    "```python\n",
    "pip install -U ultralytics\n",
    "```\n",
    "aggiorna all'ultima versione disponibile, anche se ultralytics è già installato. Cioè:<br>\n",
    "- `pip install ultralytics` → installa solo se non è già presente\n",
    "- `pip install -U ultralytics` → forza l’aggiornamento all’ultima versione."
   ]
  },
  {
   "cell_type": "markdown",
   "id": "OpgNOy0L67eV",
   "metadata": {
    "id": "OpgNOy0L67eV"
   },
   "source": [
    "# Installazioni per Google Colab\n",
    "*PyTorch* è già installato nella sessione di Google Colab.\n",
    "\n",
    "Esistono differenti versioni di PyTorch, a seconda del tipo di run-time (CPU, GPU, TPU, ecc), Google Colab rende disponibile la versione di PyTorch adatta al run-time che abbiamo scelto."
   ]
  },
  {
   "cell_type": "code",
   "execution_count": 2,
   "id": "uP4_Fd-T6-pN",
   "metadata": {
    "colab": {
     "base_uri": "https://localhost:8080/"
    },
    "execution": {
     "iopub.execute_input": "2025-10-09T16:35:46.298629Z",
     "iopub.status.busy": "2025-10-09T16:35:46.298379Z",
     "iopub.status.idle": "2025-10-09T16:35:49.032874Z",
     "shell.execute_reply": "2025-10-09T16:35:49.032335Z",
     "shell.execute_reply.started": "2025-10-09T16:35:46.298612Z"
    },
    "id": "uP4_Fd-T6-pN",
    "outputId": "ea58e03c-aa83-4dd3-b68e-6e52a50a1442"
   },
   "outputs": [
    {
     "name": "stdout",
     "output_type": "stream",
     "text": [
      "2.8.0+cpu\n",
      "False\n"
     ]
    }
   ],
   "source": [
    "import torch\n",
    "print(torch.__version__)\n",
    "print(torch.cuda.is_available())"
   ]
  },
  {
   "cell_type": "markdown",
   "id": "iYHawE1n7KgF",
   "metadata": {
    "id": "iYHawE1n7KgF"
   },
   "source": [
    "Se il runtime scelto è di tipo 'GPU', `torch.cuda` è disponibile e la print dirà \"True\".\n",
    "\n",
    "Per le TPU su Colab, per PyTorch si deve usare la libreria `torch_xla`, es:\n",
    "\n",
    "```python\n",
    "import torch_xla\n",
    "import torch_xla.core.xla_model as xm\n",
    "device = xm.xla_device()\n",
    "```\n",
    "\n",
    "Ma attenzione: è una configurazione un po’ più avanzata e non tutte le librerie sono compatibili. In generale, **se si sta usando PyTorch standard, meglio usare il runtime GPU**.\n",
    "\n"
   ]
  },
  {
   "cell_type": "markdown",
   "id": "_zxpdgFI9JCV",
   "metadata": {
    "id": "_zxpdgFI9JCV"
   },
   "source": [
    "La libreria `Ultralytics` deve invece esere installata , come fatto in Jupyter Notebook. Occorrono circa **3 minuti**.<br>\n",
    "Alcune dipendenze risultano già presenti, ma l'installazione è indispensabile altrimenti la successiva *import* della libreria non funzionerà."
   ]
  },
  {
   "cell_type": "code",
   "execution_count": null,
   "id": "XzzWxPpM9RsM",
   "metadata": {
    "colab": {
     "base_uri": "https://localhost:8080/"
    },
    "id": "XzzWxPpM9RsM",
    "outputId": "9569e15e-426c-46ad-c702-6d6d970ca319"
   },
   "outputs": [],
   "source": [
    "!pip install -U ultralytics"
   ]
  },
  {
   "cell_type": "markdown",
   "id": "7e576d8a-b3f9-4d8d-b12d-c331d79f0689",
   "metadata": {
    "id": "7e576d8a-b3f9-4d8d-b12d-c331d79f0689"
   },
   "source": [
    "# YOLO vs Ultralytics"
   ]
  },
  {
   "cell_type": "markdown",
   "id": "1e20151b-6736-47b8-a837-baf7ea9e5572",
   "metadata": {
    "id": "1e20151b-6736-47b8-a837-baf7ea9e5572"
   },
   "source": [
    "---\n",
    "La confusione tra **YOLO** e **Ultralytics** è comune, ma i due termini indicano **cose diverse**.\n",
    "\n",
    "---\n",
    "\n",
    "In breve:\n",
    "\n",
    "| Termine         | Cos'è                                                                               |\n",
    "| --------------- | ----------------------------------------------------------------------------------- |\n",
    "| **YOLO**        | Una *famiglia di modelli* per object detection                                      |\n",
    "| **Ultralytics** | Un’**azienda** + una **libreria Python** open source che implementa YOLO in PyTorch |\n",
    "\n",
    "---\n",
    "\n",
    "Approfondiamo:\n",
    "\n",
    "**YOLO (You Only Look Once)**\n",
    "\n",
    "* È un **approccio di object detection one-shot**: elabora l’intera immagine in una sola passata della rete.\n",
    "* Nato nel 2015 da **Joseph Redmon**, con YOLOv1.\n",
    "* Si è evoluto nel tempo in:\n",
    "\n",
    "  * YOLOv1 → YOLOv2 → YOLOv3 (basati su **Darknet**, framework in C/CUDA)\n",
    "  * Fork come YOLOv4 (Alexey Bochkovskiy), YOLOv5, YOLOv6, YOLOv7, YOLOv8, YOLO-NAS...\n",
    "* YOLO è oggi più un **\"paradigma\" di detection veloce e realtime** che un singolo modello. E' uno standard?!\n",
    "\n",
    "---\n",
    "\n",
    "**Ultralytics**\n",
    "\n",
    "* È una **software house** che:\n",
    "\n",
    "  * Ha sviluppato **YOLOv5** (2020) e poi **YOLOv8** (2023)\n",
    "  * Ha riscritto YOLO interamente in **PyTorch**\n",
    "  * Ha creato la libreria `ultralytics` che semplifica tutto: training, inferenza (l'utilizzo), export (dei risultati).\n",
    "\n",
    "* Il comando `from ultralytics import YOLO` fa parte proprio di questa libreria.\n",
    "\n",
    "> **YOLOv8** è la penultima versione del modello YOLO sviluppata da Ultralytics (rilasciata a gennaio 2023).<br>\n",
    "> La libreria ultralytics che contiene YOLOv8 ha invece una numerazione delle versioni software separata, ed è arrivata alla versione **v11.x**.\n",
    "Vedi [questa pagina](https://github.com/ultralytics/assets/releases) di Ultralytics per chiarimenti.\n",
    "\n",
    "---\n"
   ]
  },
  {
   "cell_type": "code",
   "execution_count": 3,
   "id": "d05fcba5-fe33-4eca-ab4c-f6176793ce29",
   "metadata": {
    "execution": {
     "iopub.execute_input": "2025-10-09T16:35:56.230847Z",
     "iopub.status.busy": "2025-10-09T16:35:56.230661Z",
     "iopub.status.idle": "2025-10-09T16:35:56.599261Z",
     "shell.execute_reply": "2025-10-09T16:35:56.598670Z",
     "shell.execute_reply.started": "2025-10-09T16:35:56.230833Z"
    },
    "id": "d05fcba5-fe33-4eca-ab4c-f6176793ce29"
   },
   "outputs": [],
   "source": [
    "from ultralytics import YOLO   # 2-3 secondi di esecuzione"
   ]
  },
  {
   "cell_type": "markdown",
   "id": "21a64137-df05-4e7f-a943-ddd29cde7239",
   "metadata": {
    "id": "21a64137-df05-4e7f-a943-ddd29cde7239"
   },
   "source": [
    "# I modelli di YOLO"
   ]
  },
  {
   "cell_type": "markdown",
   "id": "34ae66e1-6c89-4e43-8028-fc159096c602",
   "metadata": {
    "execution": {
     "iopub.execute_input": "2025-07-03T19:16:35.272711Z",
     "iopub.status.busy": "2025-07-03T19:16:35.272425Z",
     "iopub.status.idle": "2025-07-03T19:16:35.277184Z",
     "shell.execute_reply": "2025-07-03T19:16:35.276613Z",
     "shell.execute_reply.started": "2025-07-03T19:16:35.272695Z"
    },
    "id": "34ae66e1-6c89-4e43-8028-fc159096c602"
   },
   "source": [
    "YOLOv8 mette a disposizione 5 modelli di riconoscimento oggetti (gratuiti), qui riferiti alla v11 di Ultralytics:\n",
    "- `yolo11n`: la versione **nano**, quella meno precisa e che richiede meno risorse\n",
    "- `yolo11s`: la versione **small**\n",
    "- `yolo11m`: la versione **media**\n",
    "- `yolo11l`: la versione **large**\n",
    "- `yolo11x`: la versione **extra-large**\n",
    "\n"
   ]
  },
  {
   "cell_type": "code",
   "execution_count": 4,
   "id": "WoG9W3SN5LA-",
   "metadata": {
    "colab": {
     "base_uri": "https://localhost:8080/",
     "height": 389
    },
    "execution": {
     "iopub.execute_input": "2025-10-09T16:35:58.265100Z",
     "iopub.status.busy": "2025-10-09T16:35:58.264912Z",
     "iopub.status.idle": "2025-10-09T16:35:58.270838Z",
     "shell.execute_reply": "2025-10-09T16:35:58.270319Z",
     "shell.execute_reply.started": "2025-10-09T16:35:58.265087Z"
    },
    "id": "WoG9W3SN5LA-",
    "outputId": "947e9863-c03b-4a53-fe48-262383b4bbda"
   },
   "outputs": [
    {
     "data": {
      "image/png": "[encoded data removed]",
      "text/plain": [
       "<IPython.core.display.Image object>"
      ]
     },
     "metadata": {},
     "output_type": "display_data"
    }
   ],
   "source": [
    "Image('modelli_YOLOv8.png') if IN_COLAB else display(Image(filename='modelli_YOLOv8.png'))"
   ]
  },
  {
   "cell_type": "code",
   "execution_count": 5,
   "id": "EIB95dcN5pct",
   "metadata": {
    "colab": {
     "base_uri": "https://localhost:8080/",
     "height": 238
    },
    "execution": {
     "iopub.execute_input": "2025-10-09T16:35:59.264997Z",
     "iopub.status.busy": "2025-10-09T16:35:59.264811Z",
     "iopub.status.idle": "2025-10-09T16:35:59.278934Z",
     "shell.execute_reply": "2025-10-09T16:35:59.278589Z",
     "shell.execute_reply.started": "2025-10-09T16:35:59.264984Z"
    },
    "id": "EIB95dcN5pct",
    "outputId": "84ffa9e0-2c1a-4698-99fd-bccaff7408ac"
   },
   "outputs": [
    {
     "data": {
      "image/png": "[encoded data removed]",
      "text/plain": [
       "<IPython.core.display.Image object>"
      ]
     },
     "metadata": {},
     "output_type": "display_data"
    }
   ],
   "source": [
    "Image('modelli_YOLOv8_costi.png') if IN_COLAB else display(Image(filename='modelli_YOLOv8_costi.png'))"
   ]
  },
  {
   "cell_type": "markdown",
   "id": "252fb022-2baa-424c-b512-1bb8dc1e628d",
   "metadata": {},
   "source": [
    "# Il webhook"
   ]
  },
  {
   "cell_type": "code",
   "execution_count": 6,
   "id": "76c6f085-853e-4c7f-b1a2-94dfcc9786f4",
   "metadata": {
    "execution": {
     "iopub.execute_input": "2025-10-09T16:36:00.796967Z",
     "iopub.status.busy": "2025-10-09T16:36:00.796782Z",
     "iopub.status.idle": "2025-10-09T16:36:00.800573Z",
     "shell.execute_reply": "2025-10-09T16:36:00.800138Z",
     "shell.execute_reply.started": "2025-10-09T16:36:00.796954Z"
    }
   },
   "outputs": [],
   "source": [
    "URL_WEBHOOK = \"https://hooks.zapier.com/hooks/catch/23724713/u3l6nas/\""
   ]
  },
  {
   "cell_type": "markdown",
   "id": "2bc81e8d-084d-44b5-b0e3-de0780fadce1",
   "metadata": {},
   "source": [
    "# Yolo v26\n",
    "\n",
    "[Qui](https://www.tiktok.com/@brainlink_project/video/7554513155913944342?_r=1&_t=ZN-90HQ0cLFNNG) un video di [***brainlink***](https://www.youtube.com/channel/UCyKvp4laNQfYUql3zmiMMhg/about) - una ottima academy sulla AI e ML - sull'**ultima versione di Yolo, la v26**, uscita ad inizio ottobre 2025."
   ]
  },
  {
   "cell_type": "markdown",
   "id": "bf340149-8b87-4caa-85bc-a38fae25ecf8",
   "metadata": {
    "id": "bf340149-8b87-4caa-85bc-a38fae25ecf8"
   },
   "source": [
    "# Il nostro modello (per questo notebook)"
   ]
  },
  {
   "cell_type": "markdown",
   "id": "VPJ65SW2CYFg",
   "metadata": {
    "id": "VPJ65SW2CYFg"
   },
   "source": [
    "Scarichiamo il modello YOLO (l'ultimo) con la funzione `YOLO` prima importata."
   ]
  },
  {
   "cell_type": "code",
   "execution_count": 7,
   "id": "eb11edcf-a11c-4658-bc26-f4582e31aced",
   "metadata": {
    "execution": {
     "iopub.execute_input": "2025-10-09T16:36:02.885867Z",
     "iopub.status.busy": "2025-10-09T16:36:02.885683Z",
     "iopub.status.idle": "2025-10-09T16:36:03.004655Z",
     "shell.execute_reply": "2025-10-09T16:36:03.004226Z",
     "shell.execute_reply.started": "2025-10-09T16:36:02.885854Z"
    },
    "id": "eb11edcf-a11c-4658-bc26-f4582e31aced"
   },
   "outputs": [],
   "source": [
    "model = YOLO(\"yolo11m.pt\")    # il modello YOLO da usare per il riconoscimento degli oggetti.\n",
    "                              # lo scarica"
   ]
  },
  {
   "cell_type": "markdown",
   "id": "547499ed-5e97-497f-ae89-b70787a51357",
   "metadata": {
    "id": "547499ed-5e97-497f-ae89-b70787a51357"
   },
   "source": [
    "> `.pt` → è un modello PyTorch salvato, compatibile con ultralytics."
   ]
  },
  {
   "cell_type": "markdown",
   "id": "2522cc6c-5b65-4f5d-95b3-d48e79ce6e80",
   "metadata": {
    "id": "2522cc6c-5b65-4f5d-95b3-d48e79ce6e80"
   },
   "source": [
    "Nell'oggetto `model` abbiamo il modello **PREALLENATO ISTANZIATO**.\n",
    "\n",
    "Vediamo la **classe** dell'oggetto e poi **l'architettura** del modello:"
   ]
  },
  {
   "cell_type": "code",
   "execution_count": 8,
   "id": "ef4f9364-85df-49d2-bcc7-145d346e815f",
   "metadata": {
    "colab": {
     "base_uri": "https://localhost:8080/",
     "height": 203
    },
    "execution": {
     "iopub.execute_input": "2025-10-09T16:36:05.658305Z",
     "iopub.status.busy": "2025-10-09T16:36:05.658112Z",
     "iopub.status.idle": "2025-10-09T16:36:05.662569Z",
     "shell.execute_reply": "2025-10-09T16:36:05.662198Z",
     "shell.execute_reply.started": "2025-10-09T16:36:05.658292Z"
    },
    "id": "ef4f9364-85df-49d2-bcc7-145d346e815f",
    "outputId": "53399620-33c5-4925-d074-bbac9cbfab2a"
   },
   "outputs": [
    {
     "data": {
      "text/plain": [
       "ultralytics.models.yolo.model.YOLO"
      ]
     },
     "execution_count": 8,
     "metadata": {},
     "output_type": "execute_result"
    }
   ],
   "source": [
    "type(model)"
   ]
  },
  {
   "cell_type": "code",
   "execution_count": 9,
   "id": "8776323a-a792-45a7-be12-61a49a6961f8",
   "metadata": {
    "colab": {
     "base_uri": "https://localhost:8080/"
    },
    "execution": {
     "iopub.execute_input": "2025-10-09T16:36:06.146514Z",
     "iopub.status.busy": "2025-10-09T16:36:06.146264Z",
     "iopub.status.idle": "2025-10-09T16:36:06.154358Z",
     "shell.execute_reply": "2025-10-09T16:36:06.153927Z",
     "shell.execute_reply.started": "2025-10-09T16:36:06.146497Z"
    },
    "id": "8776323a-a792-45a7-be12-61a49a6961f8",
    "outputId": "b28272c7-4f41-4083-f21d-e268a7eb3e84"
   },
   "outputs": [
    {
     "data": {
      "text/plain": [
       "DetectionModel(\n",
       "  (model): Sequential(\n",
       "    (0): Conv(\n",
       "      (conv): Conv2d(3, 64, kernel_size=(3, 3), stride=(2, 2), padding=(1, 1), bias=False)\n",
       "      (bn): BatchNorm2d(64, eps=0.001, momentum=0.03, affine=True, track_running_stats=True)\n",
       "      (act): SiLU(inplace=True)\n",
       "    )\n",
       "    (1): Conv(\n",
       "      (conv): Conv2d(64, 128, kernel_size=(3, 3), stride=(2, 2), padding=(1, 1), bias=False)\n",
       "      (bn): BatchNorm2d(128, eps=0.001, momentum=0.03, affine=True, track_running_stats=True)\n",
       "      (act): SiLU(inplace=True)\n",
       "    )\n",
       "    (2): C3k2(\n",
       "      (cv1): Conv(\n",
       "        (conv): Conv2d(128, 128, kernel_size=(1, 1), stride=(1, 1), bias=False)\n",
       "        (bn): BatchNorm2d(128, eps=0.001, momentum=0.03, affine=True, track_running_stats=True)\n",
       "        (act): SiLU(inplace=True)\n",
       "      )\n",
       "      (cv2): Conv(\n",
       "        (conv): Conv2d(192, 256, kernel_size=(1, 1), stride=(1, 1), bias=False)\n",
       "        (bn): BatchNorm2d(256, eps=0.001, momentum=0.03, affine=True, track_running_stats=True)\n",
       "        (act): SiLU(inplace=True)\n",
       "      )\n",
       "      (m): ModuleList(\n",
       "        (0): C3k(\n",
       "          (cv1): Conv(\n",
       "            (conv): Conv2d(64, 32, kernel_size=(1, 1), stride=(1, 1), bias=False)\n",
       "            (bn): BatchNorm2d(32, eps=0.001, momentum=0.03, affine=True, track_running_stats=True)\n",
       "            (act): SiLU(inplace=True)\n",
       "          )\n",
       "          (cv2): Conv(\n",
       "            (conv): Conv2d(64, 32, kernel_size=(1, 1), stride=(1, 1), bias=False)\n",
       "            (bn): BatchNorm2d(32, eps=0.001, momentum=0.03, affine=True, track_running_stats=True)\n",
       "            (act): SiLU(inplace=True)\n",
       "          )\n",
       "          (cv3): Conv(\n",
       "            (conv): Conv2d(64, 64, kernel_size=(1, 1), stride=(1, 1), bias=False)\n",
       "            (bn): BatchNorm2d(64, eps=0.001, momentum=0.03, affine=True, track_running_stats=True)\n",
       "            (act): SiLU(inplace=True)\n",
       "          )\n",
       "          (m): Sequential(\n",
       "            (0): Bottleneck(\n",
       "              (cv1): Conv(\n",
       "                (conv): Conv2d(32, 32, kernel_size=(3, 3), stride=(1, 1), padding=(1, 1), bias=False)\n",
       "                (bn): BatchNorm2d(32, eps=0.001, momentum=0.03, affine=True, track_running_stats=True)\n",
       "                (act): SiLU(inplace=True)\n",
       "              )\n",
       "              (cv2): Conv(\n",
       "                (conv): Conv2d(32, 32, kernel_size=(3, 3), stride=(1, 1), padding=(1, 1), bias=False)\n",
       "                (bn): BatchNorm2d(32, eps=0.001, momentum=0.03, affine=True, track_running_stats=True)\n",
       "                (act): SiLU(inplace=True)\n",
       "              )\n",
       "            )\n",
       "            (1): Bottleneck(\n",
       "              (cv1): Conv(\n",
       "                (conv): Conv2d(32, 32, kernel_size=(3, 3), stride=(1, 1), padding=(1, 1), bias=False)\n",
       "                (bn): BatchNorm2d(32, eps=0.001, momentum=0.03, affine=True, track_running_stats=True)\n",
       "                (act): SiLU(inplace=True)\n",
       "              )\n",
       "              (cv2): Conv(\n",
       "                (conv): Conv2d(32, 32, kernel_size=(3, 3), stride=(1, 1), padding=(1, 1), bias=False)\n",
       "                (bn): BatchNorm2d(32, eps=0.001, momentum=0.03, affine=True, track_running_stats=True)\n",
       "                (act): SiLU(inplace=True)\n",
       "              )\n",
       "            )\n",
       "          )\n",
       "        )\n",
       "      )\n",
       "    )\n",
       "    (3): Conv(\n",
       "      (conv): Conv2d(256, 256, kernel_size=(3, 3), stride=(2, 2), padding=(1, 1), bias=False)\n",
       "      (bn): BatchNorm2d(256, eps=0.001, momentum=0.03, affine=True, track_running_stats=True)\n",
       "      (act): SiLU(inplace=True)\n",
       "    )\n",
       "    (4): C3k2(\n",
       "      (cv1): Conv(\n",
       "        (conv): Conv2d(256, 256, kernel_size=(1, 1), stride=(1, 1), bias=False)\n",
       "        (bn): BatchNorm2d(256, eps=0.001, momentum=0.03, affine=True, track_running_stats=True)\n",
       "        (act): SiLU(inplace=True)\n",
       "      )\n",
       "      (cv2): Conv(\n",
       "        (conv): Conv2d(384, 512, kernel_size=(1, 1), stride=(1, 1), bias=False)\n",
       "        (bn): BatchNorm2d(512, eps=0.001, momentum=0.03, affine=True, track_running_stats=True)\n",
       "        (act): SiLU(inplace=True)\n",
       "      )\n",
       "      (m): ModuleList(\n",
       "        (0): C3k(\n",
       "          (cv1): Conv(\n",
       "            (conv): Conv2d(128, 64, kernel_size=(1, 1), stride=(1, 1), bias=False)\n",
       "            (bn): BatchNorm2d(64, eps=0.001, momentum=0.03, affine=True, track_running_stats=True)\n",
       "            (act): SiLU(inplace=True)\n",
       "          )\n",
       "          (cv2): Conv(\n",
       "            (conv): Conv2d(128, 64, kernel_size=(1, 1), stride=(1, 1), bias=False)\n",
       "            (bn): BatchNorm2d(64, eps=0.001, momentum=0.03, affine=True, track_running_stats=True)\n",
       "            (act): SiLU(inplace=True)\n",
       "          )\n",
       "          (cv3): Conv(\n",
       "            (conv): Conv2d(128, 128, kernel_size=(1, 1), stride=(1, 1), bias=False)\n",
       "            (bn): BatchNorm2d(128, eps=0.001, momentum=0.03, affine=True, track_running_stats=True)\n",
       "            (act): SiLU(inplace=True)\n",
       "          )\n",
       "          (m): Sequential(\n",
       "            (0): Bottleneck(\n",
       "              (cv1): Conv(\n",
       "                (conv): Conv2d(64, 64, kernel_size=(3, 3), stride=(1, 1), padding=(1, 1), bias=False)\n",
       "                (bn): BatchNorm2d(64, eps=0.001, momentum=0.03, affine=True, track_running_stats=True)\n",
       "                (act): SiLU(inplace=True)\n",
       "              )\n",
       "              (cv2): Conv(\n",
       "                (conv): Conv2d(64, 64, kernel_size=(3, 3), stride=(1, 1), padding=(1, 1), bias=False)\n",
       "                (bn): BatchNorm2d(64, eps=0.001, momentum=0.03, affine=True, track_running_stats=True)\n",
       "                (act): SiLU(inplace=True)\n",
       "              )\n",
       "            )\n",
       "            (1): Bottleneck(\n",
       "              (cv1): Conv(\n",
       "                (conv): Conv2d(64, 64, kernel_size=(3, 3), stride=(1, 1), padding=(1, 1), bias=False)\n",
       "                (bn): BatchNorm2d(64, eps=0.001, momentum=0.03, affine=True, track_running_stats=True)\n",
       "                (act): SiLU(inplace=True)\n",
       "              )\n",
       "              (cv2): Conv(\n",
       "                (conv): Conv2d(64, 64, kernel_size=(3, 3), stride=(1, 1), padding=(1, 1), bias=False)\n",
       "                (bn): BatchNorm2d(64, eps=0.001, momentum=0.03, affine=True, track_running_stats=True)\n",
       "                (act): SiLU(inplace=True)\n",
       "              )\n",
       "            )\n",
       "          )\n",
       "        )\n",
       "      )\n",
       "    )\n",
       "    (5): Conv(\n",
       "      (conv): Conv2d(512, 512, kernel_size=(3, 3), stride=(2, 2), padding=(1, 1), bias=False)\n",
       "      (bn): BatchNorm2d(512, eps=0.001, momentum=0.03, affine=True, track_running_stats=True)\n",
       "      (act): SiLU(inplace=True)\n",
       "    )\n",
       "    (6): C3k2(\n",
       "      (cv1): Conv(\n",
       "        (conv): Conv2d(512, 512, kernel_size=(1, 1), stride=(1, 1), bias=False)\n",
       "        (bn): BatchNorm2d(512, eps=0.001, momentum=0.03, affine=True, track_running_stats=True)\n",
       "        (act): SiLU(inplace=True)\n",
       "      )\n",
       "      (cv2): Conv(\n",
       "        (conv): Conv2d(768, 512, kernel_size=(1, 1), stride=(1, 1), bias=False)\n",
       "        (bn): BatchNorm2d(512, eps=0.001, momentum=0.03, affine=True, track_running_stats=True)\n",
       "        (act): SiLU(inplace=True)\n",
       "      )\n",
       "      (m): ModuleList(\n",
       "        (0): C3k(\n",
       "          (cv1): Conv(\n",
       "            (conv): Conv2d(256, 128, kernel_size=(1, 1), stride=(1, 1), bias=False)\n",
       "            (bn): BatchNorm2d(128, eps=0.001, momentum=0.03, affine=True, track_running_stats=True)\n",
       "            (act): SiLU(inplace=True)\n",
       "          )\n",
       "          (cv2): Conv(\n",
       "            (conv): Conv2d(256, 128, kernel_size=(1, 1), stride=(1, 1), bias=False)\n",
       "            (bn): BatchNorm2d(128, eps=0.001, momentum=0.03, affine=True, track_running_stats=True)\n",
       "            (act): SiLU(inplace=True)\n",
       "          )\n",
       "          (cv3): Conv(\n",
       "            (conv): Conv2d(256, 256, kernel_size=(1, 1), stride=(1, 1), bias=False)\n",
       "            (bn): BatchNorm2d(256, eps=0.001, momentum=0.03, affine=True, track_running_stats=True)\n",
       "            (act): SiLU(inplace=True)\n",
       "          )\n",
       "          (m): Sequential(\n",
       "            (0): Bottleneck(\n",
       "              (cv1): Conv(\n",
       "                (conv): Conv2d(128, 128, kernel_size=(3, 3), stride=(1, 1), padding=(1, 1), bias=False)\n",
       "                (bn): BatchNorm2d(128, eps=0.001, momentum=0.03, affine=True, track_running_stats=True)\n",
       "                (act): SiLU(inplace=True)\n",
       "              )\n",
       "              (cv2): Conv(\n",
       "                (conv): Conv2d(128, 128, kernel_size=(3, 3), stride=(1, 1), padding=(1, 1), bias=False)\n",
       "                (bn): BatchNorm2d(128, eps=0.001, momentum=0.03, affine=True, track_running_stats=True)\n",
       "                (act): SiLU(inplace=True)\n",
       "              )\n",
       "            )\n",
       "            (1): Bottleneck(\n",
       "              (cv1): Conv(\n",
       "                (conv): Conv2d(128, 128, kernel_size=(3, 3), stride=(1, 1), padding=(1, 1), bias=False)\n",
       "                (bn): BatchNorm2d(128, eps=0.001, momentum=0.03, affine=True, track_running_stats=True)\n",
       "                (act): SiLU(inplace=True)\n",
       "              )\n",
       "              (cv2): Conv(\n",
       "                (conv): Conv2d(128, 128, kernel_size=(3, 3), stride=(1, 1), padding=(1, 1), bias=False)\n",
       "                (bn): BatchNorm2d(128, eps=0.001, momentum=0.03, affine=True, track_running_stats=True)\n",
       "                (act): SiLU(inplace=True)\n",
       "              )\n",
       "            )\n",
       "          )\n",
       "        )\n",
       "      )\n",
       "    )\n",
       "    (7): Conv(\n",
       "      (conv): Conv2d(512, 512, kernel_size=(3, 3), stride=(2, 2), padding=(1, 1), bias=False)\n",
       "      (bn): BatchNorm2d(512, eps=0.001, momentum=0.03, affine=True, track_running_stats=True)\n",
       "      (act): SiLU(inplace=True)\n",
       "    )\n",
       "    (8): C3k2(\n",
       "      (cv1): Conv(\n",
       "        (conv): Conv2d(512, 512, kernel_size=(1, 1), stride=(1, 1), bias=False)\n",
       "        (bn): BatchNorm2d(512, eps=0.001, momentum=0.03, affine=True, track_running_stats=True)\n",
       "        (act): SiLU(inplace=True)\n",
       "      )\n",
       "      (cv2): Conv(\n",
       "        (conv): Conv2d(768, 512, kernel_size=(1, 1), stride=(1, 1), bias=False)\n",
       "        (bn): BatchNorm2d(512, eps=0.001, momentum=0.03, affine=True, track_running_stats=True)\n",
       "        (act): SiLU(inplace=True)\n",
       "      )\n",
       "      (m): ModuleList(\n",
       "        (0): C3k(\n",
       "          (cv1): Conv(\n",
       "            (conv): Conv2d(256, 128, kernel_size=(1, 1), stride=(1, 1), bias=False)\n",
       "            (bn): BatchNorm2d(128, eps=0.001, momentum=0.03, affine=True, track_running_stats=True)\n",
       "            (act): SiLU(inplace=True)\n",
       "          )\n",
       "          (cv2): Conv(\n",
       "            (conv): Conv2d(256, 128, kernel_size=(1, 1), stride=(1, 1), bias=False)\n",
       "            (bn): BatchNorm2d(128, eps=0.001, momentum=0.03, affine=True, track_running_stats=True)\n",
       "            (act): SiLU(inplace=True)\n",
       "          )\n",
       "          (cv3): Conv(\n",
       "            (conv): Conv2d(256, 256, kernel_size=(1, 1), stride=(1, 1), bias=False)\n",
       "            (bn): BatchNorm2d(256, eps=0.001, momentum=0.03, affine=True, track_running_stats=True)\n",
       "            (act): SiLU(inplace=True)\n",
       "          )\n",
       "          (m): Sequential(\n",
       "            (0): Bottleneck(\n",
       "              (cv1): Conv(\n",
       "                (conv): Conv2d(128, 128, kernel_size=(3, 3), stride=(1, 1), padding=(1, 1), bias=False)\n",
       "                (bn): BatchNorm2d(128, eps=0.001, momentum=0.03, affine=True, track_running_stats=True)\n",
       "                (act): SiLU(inplace=True)\n",
       "              )\n",
       "              (cv2): Conv(\n",
       "                (conv): Conv2d(128, 128, kernel_size=(3, 3), stride=(1, 1), padding=(1, 1), bias=False)\n",
       "                (bn): BatchNorm2d(128, eps=0.001, momentum=0.03, affine=True, track_running_stats=True)\n",
       "                (act): SiLU(inplace=True)\n",
       "              )\n",
       "            )\n",
       "            (1): Bottleneck(\n",
       "              (cv1): Conv(\n",
       "                (conv): Conv2d(128, 128, kernel_size=(3, 3), stride=(1, 1), padding=(1, 1), bias=False)\n",
       "                (bn): BatchNorm2d(128, eps=0.001, momentum=0.03, affine=True, track_running_stats=True)\n",
       "                (act): SiLU(inplace=True)\n",
       "              )\n",
       "              (cv2): Conv(\n",
       "                (conv): Conv2d(128, 128, kernel_size=(3, 3), stride=(1, 1), padding=(1, 1), bias=False)\n",
       "                (bn): BatchNorm2d(128, eps=0.001, momentum=0.03, affine=True, track_running_stats=True)\n",
       "                (act): SiLU(inplace=True)\n",
       "              )\n",
       "            )\n",
       "          )\n",
       "        )\n",
       "      )\n",
       "    )\n",
       "    (9): SPPF(\n",
       "      (cv1): Conv(\n",
       "        (conv): Conv2d(512, 256, kernel_size=(1, 1), stride=(1, 1), bias=False)\n",
       "        (bn): BatchNorm2d(256, eps=0.001, momentum=0.03, affine=True, track_running_stats=True)\n",
       "        (act): SiLU(inplace=True)\n",
       "      )\n",
       "      (cv2): Conv(\n",
       "        (conv): Conv2d(1024, 512, kernel_size=(1, 1), stride=(1, 1), bias=False)\n",
       "        (bn): BatchNorm2d(512, eps=0.001, momentum=0.03, affine=True, track_running_stats=True)\n",
       "        (act): SiLU(inplace=True)\n",
       "      )\n",
       "      (m): MaxPool2d(kernel_size=5, stride=1, padding=2, dilation=1, ceil_mode=False)\n",
       "    )\n",
       "    (10): C2PSA(\n",
       "      (cv1): Conv(\n",
       "        (conv): Conv2d(512, 512, kernel_size=(1, 1), stride=(1, 1), bias=False)\n",
       "        (bn): BatchNorm2d(512, eps=0.001, momentum=0.03, affine=True, track_running_stats=True)\n",
       "        (act): SiLU(inplace=True)\n",
       "      )\n",
       "      (cv2): Conv(\n",
       "        (conv): Conv2d(512, 512, kernel_size=(1, 1), stride=(1, 1), bias=False)\n",
       "        (bn): BatchNorm2d(512, eps=0.001, momentum=0.03, affine=True, track_running_stats=True)\n",
       "        (act): SiLU(inplace=True)\n",
       "      )\n",
       "      (m): Sequential(\n",
       "        (0): PSABlock(\n",
       "          (attn): Attention(\n",
       "            (qkv): Conv(\n",
       "              (conv): Conv2d(256, 512, kernel_size=(1, 1), stride=(1, 1), bias=False)\n",
       "              (bn): BatchNorm2d(512, eps=0.001, momentum=0.03, affine=True, track_running_stats=True)\n",
       "              (act): Identity()\n",
       "            )\n",
       "            (proj): Conv(\n",
       "              (conv): Conv2d(256, 256, kernel_size=(1, 1), stride=(1, 1), bias=False)\n",
       "              (bn): BatchNorm2d(256, eps=0.001, momentum=0.03, affine=True, track_running_stats=True)\n",
       "              (act): Identity()\n",
       "            )\n",
       "            (pe): Conv(\n",
       "              (conv): Conv2d(256, 256, kernel_size=(3, 3), stride=(1, 1), padding=(1, 1), groups=256, bias=False)\n",
       "              (bn): BatchNorm2d(256, eps=0.001, momentum=0.03, affine=True, track_running_stats=True)\n",
       "              (act): Identity()\n",
       "            )\n",
       "          )\n",
       "          (ffn): Sequential(\n",
       "            (0): Conv(\n",
       "              (conv): Conv2d(256, 512, kernel_size=(1, 1), stride=(1, 1), bias=False)\n",
       "              (bn): BatchNorm2d(512, eps=0.001, momentum=0.03, affine=True, track_running_stats=True)\n",
       "              (act): SiLU(inplace=True)\n",
       "            )\n",
       "            (1): Conv(\n",
       "              (conv): Conv2d(512, 256, kernel_size=(1, 1), stride=(1, 1), bias=False)\n",
       "              (bn): BatchNorm2d(256, eps=0.001, momentum=0.03, affine=True, track_running_stats=True)\n",
       "              (act): Identity()\n",
       "            )\n",
       "          )\n",
       "        )\n",
       "      )\n",
       "    )\n",
       "    (11): Upsample(scale_factor=2.0, mode='nearest')\n",
       "    (12): Concat()\n",
       "    (13): C3k2(\n",
       "      (cv1): Conv(\n",
       "        (conv): Conv2d(1024, 512, kernel_size=(1, 1), stride=(1, 1), bias=False)\n",
       "        (bn): BatchNorm2d(512, eps=0.001, momentum=0.03, affine=True, track_running_stats=True)\n",
       "        (act): SiLU(inplace=True)\n",
       "      )\n",
       "      (cv2): Conv(\n",
       "        (conv): Conv2d(768, 512, kernel_size=(1, 1), stride=(1, 1), bias=False)\n",
       "        (bn): BatchNorm2d(512, eps=0.001, momentum=0.03, affine=True, track_running_stats=True)\n",
       "        (act): SiLU(inplace=True)\n",
       "      )\n",
       "      (m): ModuleList(\n",
       "        (0): C3k(\n",
       "          (cv1): Conv(\n",
       "            (conv): Conv2d(256, 128, kernel_size=(1, 1), stride=(1, 1), bias=False)\n",
       "            (bn): BatchNorm2d(128, eps=0.001, momentum=0.03, affine=True, track_running_stats=True)\n",
       "            (act): SiLU(inplace=True)\n",
       "          )\n",
       "          (cv2): Conv(\n",
       "            (conv): Conv2d(256, 128, kernel_size=(1, 1), stride=(1, 1), bias=False)\n",
       "            (bn): BatchNorm2d(128, eps=0.001, momentum=0.03, affine=True, track_running_stats=True)\n",
       "            (act): SiLU(inplace=True)\n",
       "          )\n",
       "          (cv3): Conv(\n",
       "            (conv): Conv2d(256, 256, kernel_size=(1, 1), stride=(1, 1), bias=False)\n",
       "            (bn): BatchNorm2d(256, eps=0.001, momentum=0.03, affine=True, track_running_stats=True)\n",
       "            (act): SiLU(inplace=True)\n",
       "          )\n",
       "          (m): Sequential(\n",
       "            (0): Bottleneck(\n",
       "              (cv1): Conv(\n",
       "                (conv): Conv2d(128, 128, kernel_size=(3, 3), stride=(1, 1), padding=(1, 1), bias=False)\n",
       "                (bn): BatchNorm2d(128, eps=0.001, momentum=0.03, affine=True, track_running_stats=True)\n",
       "                (act): SiLU(inplace=True)\n",
       "              )\n",
       "              (cv2): Conv(\n",
       "                (conv): Conv2d(128, 128, kernel_size=(3, 3), stride=(1, 1), padding=(1, 1), bias=False)\n",
       "                (bn): BatchNorm2d(128, eps=0.001, momentum=0.03, affine=True, track_running_stats=True)\n",
       "                (act): SiLU(inplace=True)\n",
       "              )\n",
       "            )\n",
       "            (1): Bottleneck(\n",
       "              (cv1): Conv(\n",
       "                (conv): Conv2d(128, 128, kernel_size=(3, 3), stride=(1, 1), padding=(1, 1), bias=False)\n",
       "                (bn): BatchNorm2d(128, eps=0.001, momentum=0.03, affine=True, track_running_stats=True)\n",
       "                (act): SiLU(inplace=True)\n",
       "              )\n",
       "              (cv2): Conv(\n",
       "                (conv): Conv2d(128, 128, kernel_size=(3, 3), stride=(1, 1), padding=(1, 1), bias=False)\n",
       "                (bn): BatchNorm2d(128, eps=0.001, momentum=0.03, affine=True, track_running_stats=True)\n",
       "                (act): SiLU(inplace=True)\n",
       "              )\n",
       "            )\n",
       "          )\n",
       "        )\n",
       "      )\n",
       "    )\n",
       "    (14): Upsample(scale_factor=2.0, mode='nearest')\n",
       "    (15): Concat()\n",
       "    (16): C3k2(\n",
       "      (cv1): Conv(\n",
       "        (conv): Conv2d(1024, 256, kernel_size=(1, 1), stride=(1, 1), bias=False)\n",
       "        (bn): BatchNorm2d(256, eps=0.001, momentum=0.03, affine=True, track_running_stats=True)\n",
       "        (act): SiLU(inplace=True)\n",
       "      )\n",
       "      (cv2): Conv(\n",
       "        (conv): Conv2d(384, 256, kernel_size=(1, 1), stride=(1, 1), bias=False)\n",
       "        (bn): BatchNorm2d(256, eps=0.001, momentum=0.03, affine=True, track_running_stats=True)\n",
       "        (act): SiLU(inplace=True)\n",
       "      )\n",
       "      (m): ModuleList(\n",
       "        (0): C3k(\n",
       "          (cv1): Conv(\n",
       "            (conv): Conv2d(128, 64, kernel_size=(1, 1), stride=(1, 1), bias=False)\n",
       "            (bn): BatchNorm2d(64, eps=0.001, momentum=0.03, affine=True, track_running_stats=True)\n",
       "            (act): SiLU(inplace=True)\n",
       "          )\n",
       "          (cv2): Conv(\n",
       "            (conv): Conv2d(128, 64, kernel_size=(1, 1), stride=(1, 1), bias=False)\n",
       "            (bn): BatchNorm2d(64, eps=0.001, momentum=0.03, affine=True, track_running_stats=True)\n",
       "            (act): SiLU(inplace=True)\n",
       "          )\n",
       "          (cv3): Conv(\n",
       "            (conv): Conv2d(128, 128, kernel_size=(1, 1), stride=(1, 1), bias=False)\n",
       "            (bn): BatchNorm2d(128, eps=0.001, momentum=0.03, affine=True, track_running_stats=True)\n",
       "            (act): SiLU(inplace=True)\n",
       "          )\n",
       "          (m): Sequential(\n",
       "            (0): Bottleneck(\n",
       "              (cv1): Conv(\n",
       "                (conv): Conv2d(64, 64, kernel_size=(3, 3), stride=(1, 1), padding=(1, 1), bias=False)\n",
       "                (bn): BatchNorm2d(64, eps=0.001, momentum=0.03, affine=True, track_running_stats=True)\n",
       "                (act): SiLU(inplace=True)\n",
       "              )\n",
       "              (cv2): Conv(\n",
       "                (conv): Conv2d(64, 64, kernel_size=(3, 3), stride=(1, 1), padding=(1, 1), bias=False)\n",
       "                (bn): BatchNorm2d(64, eps=0.001, momentum=0.03, affine=True, track_running_stats=True)\n",
       "                (act): SiLU(inplace=True)\n",
       "              )\n",
       "            )\n",
       "            (1): Bottleneck(\n",
       "              (cv1): Conv(\n",
       "                (conv): Conv2d(64, 64, kernel_size=(3, 3), stride=(1, 1), padding=(1, 1), bias=False)\n",
       "                (bn): BatchNorm2d(64, eps=0.001, momentum=0.03, affine=True, track_running_stats=True)\n",
       "                (act): SiLU(inplace=True)\n",
       "              )\n",
       "              (cv2): Conv(\n",
       "                (conv): Conv2d(64, 64, kernel_size=(3, 3), stride=(1, 1), padding=(1, 1), bias=False)\n",
       "                (bn): BatchNorm2d(64, eps=0.001, momentum=0.03, affine=True, track_running_stats=True)\n",
       "                (act): SiLU(inplace=True)\n",
       "              )\n",
       "            )\n",
       "          )\n",
       "        )\n",
       "      )\n",
       "    )\n",
       "    (17): Conv(\n",
       "      (conv): Conv2d(256, 256, kernel_size=(3, 3), stride=(2, 2), padding=(1, 1), bias=False)\n",
       "      (bn): BatchNorm2d(256, eps=0.001, momentum=0.03, affine=True, track_running_stats=True)\n",
       "      (act): SiLU(inplace=True)\n",
       "    )\n",
       "    (18): Concat()\n",
       "    (19): C3k2(\n",
       "      (cv1): Conv(\n",
       "        (conv): Conv2d(768, 512, kernel_size=(1, 1), stride=(1, 1), bias=False)\n",
       "        (bn): BatchNorm2d(512, eps=0.001, momentum=0.03, affine=True, track_running_stats=True)\n",
       "        (act): SiLU(inplace=True)\n",
       "      )\n",
       "      (cv2): Conv(\n",
       "        (conv): Conv2d(768, 512, kernel_size=(1, 1), stride=(1, 1), bias=False)\n",
       "        (bn): BatchNorm2d(512, eps=0.001, momentum=0.03, affine=True, track_running_stats=True)\n",
       "        (act): SiLU(inplace=True)\n",
       "      )\n",
       "      (m): ModuleList(\n",
       "        (0): C3k(\n",
       "          (cv1): Conv(\n",
       "            (conv): Conv2d(256, 128, kernel_size=(1, 1), stride=(1, 1), bias=False)\n",
       "            (bn): BatchNorm2d(128, eps=0.001, momentum=0.03, affine=True, track_running_stats=True)\n",
       "            (act): SiLU(inplace=True)\n",
       "          )\n",
       "          (cv2): Conv(\n",
       "            (conv): Conv2d(256, 128, kernel_size=(1, 1), stride=(1, 1), bias=False)\n",
       "            (bn): BatchNorm2d(128, eps=0.001, momentum=0.03, affine=True, track_running_stats=True)\n",
       "            (act): SiLU(inplace=True)\n",
       "          )\n",
       "          (cv3): Conv(\n",
       "            (conv): Conv2d(256, 256, kernel_size=(1, 1), stride=(1, 1), bias=False)\n",
       "            (bn): BatchNorm2d(256, eps=0.001, momentum=0.03, affine=True, track_running_stats=True)\n",
       "            (act): SiLU(inplace=True)\n",
       "          )\n",
       "          (m): Sequential(\n",
       "            (0): Bottleneck(\n",
       "              (cv1): Conv(\n",
       "                (conv): Conv2d(128, 128, kernel_size=(3, 3), stride=(1, 1), padding=(1, 1), bias=False)\n",
       "                (bn): BatchNorm2d(128, eps=0.001, momentum=0.03, affine=True, track_running_stats=True)\n",
       "                (act): SiLU(inplace=True)\n",
       "              )\n",
       "              (cv2): Conv(\n",
       "                (conv): Conv2d(128, 128, kernel_size=(3, 3), stride=(1, 1), padding=(1, 1), bias=False)\n",
       "                (bn): BatchNorm2d(128, eps=0.001, momentum=0.03, affine=True, track_running_stats=True)\n",
       "                (act): SiLU(inplace=True)\n",
       "              )\n",
       "            )\n",
       "            (1): Bottleneck(\n",
       "              (cv1): Conv(\n",
       "                (conv): Conv2d(128, 128, kernel_size=(3, 3), stride=(1, 1), padding=(1, 1), bias=False)\n",
       "                (bn): BatchNorm2d(128, eps=0.001, momentum=0.03, affine=True, track_running_stats=True)\n",
       "                (act): SiLU(inplace=True)\n",
       "              )\n",
       "              (cv2): Conv(\n",
       "                (conv): Conv2d(128, 128, kernel_size=(3, 3), stride=(1, 1), padding=(1, 1), bias=False)\n",
       "                (bn): BatchNorm2d(128, eps=0.001, momentum=0.03, affine=True, track_running_stats=True)\n",
       "                (act): SiLU(inplace=True)\n",
       "              )\n",
       "            )\n",
       "          )\n",
       "        )\n",
       "      )\n",
       "    )\n",
       "    (20): Conv(\n",
       "      (conv): Conv2d(512, 512, kernel_size=(3, 3), stride=(2, 2), padding=(1, 1), bias=False)\n",
       "      (bn): BatchNorm2d(512, eps=0.001, momentum=0.03, affine=True, track_running_stats=True)\n",
       "      (act): SiLU(inplace=True)\n",
       "    )\n",
       "    (21): Concat()\n",
       "    (22): C3k2(\n",
       "      (cv1): Conv(\n",
       "        (conv): Conv2d(1024, 512, kernel_size=(1, 1), stride=(1, 1), bias=False)\n",
       "        (bn): BatchNorm2d(512, eps=0.001, momentum=0.03, affine=True, track_running_stats=True)\n",
       "        (act): SiLU(inplace=True)\n",
       "      )\n",
       "      (cv2): Conv(\n",
       "        (conv): Conv2d(768, 512, kernel_size=(1, 1), stride=(1, 1), bias=False)\n",
       "        (bn): BatchNorm2d(512, eps=0.001, momentum=0.03, affine=True, track_running_stats=True)\n",
       "        (act): SiLU(inplace=True)\n",
       "      )\n",
       "      (m): ModuleList(\n",
       "        (0): C3k(\n",
       "          (cv1): Conv(\n",
       "            (conv): Conv2d(256, 128, kernel_size=(1, 1), stride=(1, 1), bias=False)\n",
       "            (bn): BatchNorm2d(128, eps=0.001, momentum=0.03, affine=True, track_running_stats=True)\n",
       "            (act): SiLU(inplace=True)\n",
       "          )\n",
       "          (cv2): Conv(\n",
       "            (conv): Conv2d(256, 128, kernel_size=(1, 1), stride=(1, 1), bias=False)\n",
       "            (bn): BatchNorm2d(128, eps=0.001, momentum=0.03, affine=True, track_running_stats=True)\n",
       "            (act): SiLU(inplace=True)\n",
       "          )\n",
       "          (cv3): Conv(\n",
       "            (conv): Conv2d(256, 256, kernel_size=(1, 1), stride=(1, 1), bias=False)\n",
       "            (bn): BatchNorm2d(256, eps=0.001, momentum=0.03, affine=True, track_running_stats=True)\n",
       "            (act): SiLU(inplace=True)\n",
       "          )\n",
       "          (m): Sequential(\n",
       "            (0): Bottleneck(\n",
       "              (cv1): Conv(\n",
       "                (conv): Conv2d(128, 128, kernel_size=(3, 3), stride=(1, 1), padding=(1, 1), bias=False)\n",
       "                (bn): BatchNorm2d(128, eps=0.001, momentum=0.03, affine=True, track_running_stats=True)\n",
       "                (act): SiLU(inplace=True)\n",
       "              )\n",
       "              (cv2): Conv(\n",
       "                (conv): Conv2d(128, 128, kernel_size=(3, 3), stride=(1, 1), padding=(1, 1), bias=False)\n",
       "                (bn): BatchNorm2d(128, eps=0.001, momentum=0.03, affine=True, track_running_stats=True)\n",
       "                (act): SiLU(inplace=True)\n",
       "              )\n",
       "            )\n",
       "            (1): Bottleneck(\n",
       "              (cv1): Conv(\n",
       "                (conv): Conv2d(128, 128, kernel_size=(3, 3), stride=(1, 1), padding=(1, 1), bias=False)\n",
       "                (bn): BatchNorm2d(128, eps=0.001, momentum=0.03, affine=True, track_running_stats=True)\n",
       "                (act): SiLU(inplace=True)\n",
       "              )\n",
       "              (cv2): Conv(\n",
       "                (conv): Conv2d(128, 128, kernel_size=(3, 3), stride=(1, 1), padding=(1, 1), bias=False)\n",
       "                (bn): BatchNorm2d(128, eps=0.001, momentum=0.03, affine=True, track_running_stats=True)\n",
       "                (act): SiLU(inplace=True)\n",
       "              )\n",
       "            )\n",
       "          )\n",
       "        )\n",
       "      )\n",
       "    )\n",
       "    (23): Detect(\n",
       "      (cv2): ModuleList(\n",
       "        (0): Sequential(\n",
       "          (0): Conv(\n",
       "            (conv): Conv2d(256, 64, kernel_size=(3, 3), stride=(1, 1), padding=(1, 1), bias=False)\n",
       "            (bn): BatchNorm2d(64, eps=0.001, momentum=0.03, affine=True, track_running_stats=True)\n",
       "            (act): SiLU(inplace=True)\n",
       "          )\n",
       "          (1): Conv(\n",
       "            (conv): Conv2d(64, 64, kernel_size=(3, 3), stride=(1, 1), padding=(1, 1), bias=False)\n",
       "            (bn): BatchNorm2d(64, eps=0.001, momentum=0.03, affine=True, track_running_stats=True)\n",
       "            (act): SiLU(inplace=True)\n",
       "          )\n",
       "          (2): Conv2d(64, 64, kernel_size=(1, 1), stride=(1, 1))\n",
       "        )\n",
       "        (1-2): 2 x Sequential(\n",
       "          (0): Conv(\n",
       "            (conv): Conv2d(512, 64, kernel_size=(3, 3), stride=(1, 1), padding=(1, 1), bias=False)\n",
       "            (bn): BatchNorm2d(64, eps=0.001, momentum=0.03, affine=True, track_running_stats=True)\n",
       "            (act): SiLU(inplace=True)\n",
       "          )\n",
       "          (1): Conv(\n",
       "            (conv): Conv2d(64, 64, kernel_size=(3, 3), stride=(1, 1), padding=(1, 1), bias=False)\n",
       "            (bn): BatchNorm2d(64, eps=0.001, momentum=0.03, affine=True, track_running_stats=True)\n",
       "            (act): SiLU(inplace=True)\n",
       "          )\n",
       "          (2): Conv2d(64, 64, kernel_size=(1, 1), stride=(1, 1))\n",
       "        )\n",
       "      )\n",
       "      (cv3): ModuleList(\n",
       "        (0): Sequential(\n",
       "          (0): Sequential(\n",
       "            (0): DWConv(\n",
       "              (conv): Conv2d(256, 256, kernel_size=(3, 3), stride=(1, 1), padding=(1, 1), groups=256, bias=False)\n",
       "              (bn): BatchNorm2d(256, eps=0.001, momentum=0.03, affine=True, track_running_stats=True)\n",
       "              (act): SiLU(inplace=True)\n",
       "            )\n",
       "            (1): Conv(\n",
       "              (conv): Conv2d(256, 256, kernel_size=(1, 1), stride=(1, 1), bias=False)\n",
       "              (bn): BatchNorm2d(256, eps=0.001, momentum=0.03, affine=True, track_running_stats=True)\n",
       "              (act): SiLU(inplace=True)\n",
       "            )\n",
       "          )\n",
       "          (1): Sequential(\n",
       "            (0): DWConv(\n",
       "              (conv): Conv2d(256, 256, kernel_size=(3, 3), stride=(1, 1), padding=(1, 1), groups=256, bias=False)\n",
       "              (bn): BatchNorm2d(256, eps=0.001, momentum=0.03, affine=True, track_running_stats=True)\n",
       "              (act): SiLU(inplace=True)\n",
       "            )\n",
       "            (1): Conv(\n",
       "              (conv): Conv2d(256, 256, kernel_size=(1, 1), stride=(1, 1), bias=False)\n",
       "              (bn): BatchNorm2d(256, eps=0.001, momentum=0.03, affine=True, track_running_stats=True)\n",
       "              (act): SiLU(inplace=True)\n",
       "            )\n",
       "          )\n",
       "          (2): Conv2d(256, 80, kernel_size=(1, 1), stride=(1, 1))\n",
       "        )\n",
       "        (1-2): 2 x Sequential(\n",
       "          (0): Sequential(\n",
       "            (0): DWConv(\n",
       "              (conv): Conv2d(512, 512, kernel_size=(3, 3), stride=(1, 1), padding=(1, 1), groups=512, bias=False)\n",
       "              (bn): BatchNorm2d(512, eps=0.001, momentum=0.03, affine=True, track_running_stats=True)\n",
       "              (act): SiLU(inplace=True)\n",
       "            )\n",
       "            (1): Conv(\n",
       "              (conv): Conv2d(512, 256, kernel_size=(1, 1), stride=(1, 1), bias=False)\n",
       "              (bn): BatchNorm2d(256, eps=0.001, momentum=0.03, affine=True, track_running_stats=True)\n",
       "              (act): SiLU(inplace=True)\n",
       "            )\n",
       "          )\n",
       "          (1): Sequential(\n",
       "            (0): DWConv(\n",
       "              (conv): Conv2d(256, 256, kernel_size=(3, 3), stride=(1, 1), padding=(1, 1), groups=256, bias=False)\n",
       "              (bn): BatchNorm2d(256, eps=0.001, momentum=0.03, affine=True, track_running_stats=True)\n",
       "              (act): SiLU(inplace=True)\n",
       "            )\n",
       "            (1): Conv(\n",
       "              (conv): Conv2d(256, 256, kernel_size=(1, 1), stride=(1, 1), bias=False)\n",
       "              (bn): BatchNorm2d(256, eps=0.001, momentum=0.03, affine=True, track_running_stats=True)\n",
       "              (act): SiLU(inplace=True)\n",
       "            )\n",
       "          )\n",
       "          (2): Conv2d(256, 80, kernel_size=(1, 1), stride=(1, 1))\n",
       "        )\n",
       "      )\n",
       "      (dfl): DFL(\n",
       "        (conv): Conv2d(16, 1, kernel_size=(1, 1), stride=(1, 1), bias=False)\n",
       "      )\n",
       "    )\n",
       "  )\n",
       ")"
      ]
     },
     "execution_count": 9,
     "metadata": {},
     "output_type": "execute_result"
    }
   ],
   "source": [
    "model.model    # la sequenza dei layer della CNN; per noi in questo corso può rimanere non comprensibile."
   ]
  },
  {
   "cell_type": "markdown",
   "id": "285fd5fb-f378-41e9-b236-4902adcb5a9c",
   "metadata": {
    "execution": {
     "iopub.execute_input": "2025-07-03T20:30:31.576297Z",
     "iopub.status.busy": "2025-07-03T20:30:31.575946Z",
     "iopub.status.idle": "2025-07-03T20:30:31.580403Z",
     "shell.execute_reply": "2025-07-03T20:30:31.579857Z",
     "shell.execute_reply.started": "2025-07-03T20:30:31.576281Z"
    },
    "id": "285fd5fb-f378-41e9-b236-4902adcb5a9c"
   },
   "source": [
    "Sintesi dei layer:"
   ]
  },
  {
   "cell_type": "code",
   "execution_count": 10,
   "id": "db5aea5d-c673-48d6-876d-823f2e2e94d7",
   "metadata": {
    "colab": {
     "base_uri": "https://localhost:8080/"
    },
    "execution": {
     "iopub.execute_input": "2025-10-09T16:36:07.987257Z",
     "iopub.status.busy": "2025-10-09T16:36:07.987020Z",
     "iopub.status.idle": "2025-10-09T16:36:07.990908Z",
     "shell.execute_reply": "2025-10-09T16:36:07.990459Z",
     "shell.execute_reply.started": "2025-10-09T16:36:07.987243Z"
    },
    "id": "db5aea5d-c673-48d6-876d-823f2e2e94d7",
    "outputId": "3880f805-6ef7-42c7-d10f-f01cc96c8d86"
   },
   "outputs": [
    {
     "name": "stdout",
     "output_type": "stream",
     "text": [
      "0: Conv\n",
      "1: Conv\n",
      "2: C3k2\n",
      "3: Conv\n",
      "4: C3k2\n",
      "5: Conv\n",
      "6: C3k2\n",
      "7: Conv\n",
      "8: C3k2\n",
      "9: SPPF\n",
      "10: C2PSA\n",
      "11: Upsample\n",
      "12: Concat\n",
      "13: C3k2\n",
      "14: Upsample\n",
      "15: Concat\n",
      "16: C3k2\n",
      "17: Conv\n",
      "18: Concat\n",
      "19: C3k2\n",
      "20: Conv\n",
      "21: Concat\n",
      "22: C3k2\n",
      "23: Detect\n"
     ]
    }
   ],
   "source": [
    "for i, layer in enumerate(model.model.model):\n",
    "    print(f\"{i}: {layer.__class__.__name__}\")"
   ]
  },
  {
   "cell_type": "markdown",
   "id": "35ee9493-21bb-4511-a246-31bdbd68eba2",
   "metadata": {
    "execution": {
     "iopub.execute_input": "2025-07-03T20:34:53.200564Z",
     "iopub.status.busy": "2025-07-03T20:34:53.200339Z",
     "iopub.status.idle": "2025-07-03T20:34:53.204797Z",
     "shell.execute_reply": "2025-07-03T20:34:53.204260Z",
     "shell.execute_reply.started": "2025-07-03T20:34:53.200548Z"
    },
    "id": "35ee9493-21bb-4511-a246-31bdbd68eba2"
   },
   "source": [
    "Vediamo ora il **numero totale dei parametri**:"
   ]
  },
  {
   "cell_type": "code",
   "execution_count": 11,
   "id": "882759f0-8398-4096-b20c-7cb53ff7ef63",
   "metadata": {
    "colab": {
     "base_uri": "https://localhost:8080/"
    },
    "execution": {
     "iopub.execute_input": "2025-10-09T16:36:09.550948Z",
     "iopub.status.busy": "2025-10-09T16:36:09.550761Z",
     "iopub.status.idle": "2025-10-09T16:36:09.556809Z",
     "shell.execute_reply": "2025-10-09T16:36:09.556246Z",
     "shell.execute_reply.started": "2025-10-09T16:36:09.550935Z"
    },
    "id": "882759f0-8398-4096-b20c-7cb53ff7ef63",
    "outputId": "78cedd5a-d51d-4ea8-ec37-c54606796ec9"
   },
   "outputs": [
    {
     "name": "stdout",
     "output_type": "stream",
     "text": [
      "Totale parametri: 20,114,688\n",
      "Parametri trainabili: 0\n"
     ]
    }
   ],
   "source": [
    "total_params = sum(p.numel() for p in model.model.parameters())\n",
    "trainable_params = sum(p.numel() for p in model.model.parameters() if p.requires_grad)\n",
    "\n",
    "print(f\"Totale parametri: {total_params:,}\")\n",
    "print(f\"Parametri trainabili: {trainable_params:,}\")\n"
   ]
  },
  {
   "cell_type": "markdown",
   "id": "14005f2e-10af-4deb-95fd-e62b1e4ec8fc",
   "metadata": {
    "id": "14005f2e-10af-4deb-95fd-e62b1e4ec8fc"
   },
   "source": [
    "I parametri trainabili sono 0 significa che il modello, allenato con PyTorch, è stato poi bloccato in modalità \"inference only\", cioè tutte le `requires_grad` sono state impostate a False. In altre parole, **questo modello può essere usato ma non riallenato**.\n",
    "\n",
    "Questo è perfettamente lecito se il modello viene:\n",
    "- caricato solo per inferenza (non per addestramento o fine-tuning),\n",
    "- esportato da un training precedente con `requires_grad=False`,\n",
    "- oppure se è stato congelato volutamente per risparmiare risorse."
   ]
  },
  {
   "cell_type": "markdown",
   "id": "569c8782-a900-4265-b1e4-911695134f8b",
   "metadata": {
    "id": "569c8782-a900-4265-b1e4-911695134f8b"
   },
   "source": [
    "---\n",
    "L'elenco (ed il numero totale) delle **classi che il modello è in grado di riconoscere**.\n",
    "80 non è affatto male.\n",
    "C'è comunque sempre un trade-off: maggiore è il numero di classi riconoscibili dal modello, maggiore è anche la complessità computazionale.\n",
    "\n",
    "---"
   ]
  },
  {
   "cell_type": "code",
   "execution_count": 12,
   "id": "eabac836-5377-4aa7-9d06-df2acccfe97c",
   "metadata": {
    "colab": {
     "base_uri": "https://localhost:8080/"
    },
    "execution": {
     "iopub.execute_input": "2025-10-09T16:36:13.194701Z",
     "iopub.status.busy": "2025-10-09T16:36:13.194508Z",
     "iopub.status.idle": "2025-10-09T16:36:13.198566Z",
     "shell.execute_reply": "2025-10-09T16:36:13.198009Z",
     "shell.execute_reply.started": "2025-10-09T16:36:13.194687Z"
    },
    "id": "eabac836-5377-4aa7-9d06-df2acccfe97c",
    "outputId": "b84c6afa-e10f-4b6b-ba82-4cc45e147c14"
   },
   "outputs": [
    {
     "name": "stdout",
     "output_type": "stream",
     "text": [
      "{0: 'person', 1: 'bicycle', 2: 'car', 3: 'motorcycle', 4: 'airplane', 5: 'bus', 6: 'train', 7: 'truck', 8: 'boat', 9: 'traffic light', 10: 'fire hydrant', 11: 'stop sign', 12: 'parking meter', 13: 'bench', 14: 'bird', 15: 'cat', 16: 'dog', 17: 'horse', 18: 'sheep', 19: 'cow', 20: 'elephant', 21: 'bear', 22: 'zebra', 23: 'giraffe', 24: 'backpack', 25: 'umbrella', 26: 'handbag', 27: 'tie', 28: 'suitcase', 29: 'frisbee', 30: 'skis', 31: 'snowboard', 32: 'sports ball', 33: 'kite', 34: 'baseball bat', 35: 'baseball glove', 36: 'skateboard', 37: 'surfboard', 38: 'tennis racket', 39: 'bottle', 40: 'wine glass', 41: 'cup', 42: 'fork', 43: 'knife', 44: 'spoon', 45: 'bowl', 46: 'banana', 47: 'apple', 48: 'sandwich', 49: 'orange', 50: 'broccoli', 51: 'carrot', 52: 'hot dog', 53: 'pizza', 54: 'donut', 55: 'cake', 56: 'chair', 57: 'couch', 58: 'potted plant', 59: 'bed', 60: 'dining table', 61: 'toilet', 62: 'tv', 63: 'laptop', 64: 'mouse', 65: 'remote', 66: 'keyboard', 67: 'cell phone', 68: 'microwave', 69: 'oven', 70: 'toaster', 71: 'sink', 72: 'refrigerator', 73: 'book', 74: 'clock', 75: 'vase', 76: 'scissors', 77: 'teddy bear', 78: 'hair drier', 79: 'toothbrush'}\n",
      "Numero classi: 80\n"
     ]
    }
   ],
   "source": [
    "print(model.names)\n",
    "print(f\"Numero classi: {len(model.names)}\")"
   ]
  },
  {
   "cell_type": "markdown",
   "id": "1e945d3f-751a-4809-ba4d-5f7f3a93624b",
   "metadata": {
    "id": "1e945d3f-751a-4809-ba4d-5f7f3a93624b"
   },
   "source": [
    "Il file `yolo11m.pt` è un modello YOLOv8 **pre-addestrato sul dataset COCO** (Common Objects in Context).\n",
    "\n",
    "Cosa significa? **Rileva 80 classi**, che sono esattamente le classi ufficiali del dataset COCO.\n",
    "\n",
    "Questo modello non è personalizzato (cioè non è stato fine-tuned su un nostro dataset).\n",
    "\n",
    "È una copia rinominata di **yolov8m.pt** o **yolov8x.pt** (a seconda della dimensione).\n",
    "\n",
    "Qualche dettaglio extra:\n",
    "- Il dataset COCO è uno **standard per object detection**, contiene oggetti comuni: persone, animali, veicoli, oggetti domestici...\n",
    "- È il riferimento principale per il confronto tra modelli YOLO, SSD, Faster R-CNN, ecc.\n",
    "- I modelli preaddestrati su COCO sono molto efficaci out-of-the-box per **scene urbane, case, interni, ecc**. E quindi ideali per la video-sorveglianza, che è il nostro obiettivo.\n"
   ]
  },
  {
   "cell_type": "markdown",
   "id": "61524a49-a3d8-4b0a-8a9c-0e83a08a03f3",
   "metadata": {},
   "source": [
    "# L'allenamento di Yolo\n",
    "Un'idea intuitiva è data in [questo breve video](https://www.tiktok.com/@brainlink_project/video/7555861765465132310?_r=1&_t=ZN-90IxdCw2wzO) di *brainlink*.<br>\n",
    "Concetti: \n",
    "- funzione di perdita *J* (*loss function*), da minimizzare\n",
    "- *intersection over union*\n",
    "- le immagini di training sono corredate del \"vero\" *bounding box* (la *ground truth*) "
   ]
  },
  {
   "cell_type": "markdown",
   "id": "fc6b3832-db36-4d16-b8c0-8a1958c1d2eb",
   "metadata": {
    "id": "fc6b3832-db36-4d16-b8c0-8a1958c1d2eb"
   },
   "source": [
    "# Il caricamento del video (per Google Colab)\n",
    "\n",
    "Per prima cosa dobbiamo caricare nella **memoria di sessione** il video da rilevare.<br>\n",
    "\n",
    "*FARE l'upload del video nella memoria di sessione*\n",
    "\n",
    "Verifichiamone la presenza:"
   ]
  },
  {
   "cell_type": "code",
   "execution_count": 13,
   "id": "vnYMpJ-YAutj",
   "metadata": {
    "colab": {
     "base_uri": "https://localhost:8080/"
    },
    "execution": {
     "iopub.execute_input": "2025-10-09T16:36:18.468362Z",
     "iopub.status.busy": "2025-10-09T16:36:18.468147Z",
     "iopub.status.idle": "2025-10-09T16:36:18.752039Z",
     "shell.execute_reply": "2025-10-09T16:36:18.751363Z",
     "shell.execute_reply.started": "2025-10-09T16:36:18.468348Z"
    },
    "id": "vnYMpJ-YAutj",
    "outputId": "5380b391-1c6c-4b83-a25d-7750a7833d5f"
   },
   "outputs": [
    {
     "ename": "FileNotFoundError",
     "evalue": "[WinError 3] Impossibile trovare il percorso specificato: '/content'",
     "output_type": "error",
     "traceback": [
      "\u001b[1;31m---------------------------------------------------------------------------\u001b[0m",
      "\u001b[1;31mFileNotFoundError\u001b[0m                         Traceback (most recent call last)",
      "Cell \u001b[1;32mIn[13], line 3\u001b[0m\n\u001b[0;32m      1\u001b[0m \u001b[38;5;28;01mimport\u001b[39;00m\u001b[38;5;250m \u001b[39m\u001b[38;5;21;01mos\u001b[39;00m                        \u001b[38;5;66;03m# il package 'os' (che sta per operating system) fornisce una serie di funzioni per interagire con il sottostante sistema operativo\u001b[39;00m\n\u001b[0;32m      2\u001b[0m                                  \u001b[38;5;66;03m# il s.o. di una macchina virtuale di Google Colab è Linux\u001b[39;00m\n\u001b[1;32m----> 3\u001b[0m \u001b[38;5;28mprint\u001b[39m(os\u001b[38;5;241m.\u001b[39mlistdir(\u001b[38;5;124m'\u001b[39m\u001b[38;5;124m/content\u001b[39m\u001b[38;5;124m'\u001b[39m))\n",
      "\u001b[1;31mFileNotFoundError\u001b[0m: [WinError 3] Impossibile trovare il percorso specificato: '/content'"
     ]
    }
   ],
   "source": [
    "import os                        # il package 'os' (che sta per operating system) fornisce una serie di funzioni per interagire con il sottostante sistema operativo\n",
    "                                 # il s.o. di una macchina virtuale di Google Colab è Linux\n",
    "print(os.listdir('/content'))\n"
   ]
  },
  {
   "cell_type": "markdown",
   "id": "JGMsEyP4a0oe",
   "metadata": {
    "id": "JGMsEyP4a0oe"
   },
   "source": [
    "YOLO funziona meglio con video registrati **in formato orizzontale**. Se il video in input è stato registrato <u>in formato verticale (come il file `video_strada_2.mp4`)</u> lo possiamo **centrare** in formato orizzontale con \"padding\" nero intorno, con la libreria `ffmpeg`.\n",
    "\n",
    "La seguente cella mantiene il contenuto verticale intatto, ma lo centra in un video orizzontale.<br>\n",
    "Cosa fa esattamente?\n",
    "- `scale=-1:1080` → mantiene l’altezza a 1080, adatta la larghezza proporzionalmente\n",
    "- pad=1920:1080:(ow-iw)/2:(oh-ih)/2 → incornicia il video con bande nere per portarlo a 1920×1080 centrato\n",
    "\n",
    "Il parametro `-i` indica il file di input, il parametro `-vf` indica il tipo di \"video filter\" applicato (es. rotazioni, ridimensionamenti, sfocature, ecc.).\n",
    "\n",
    "Tempo di esecuzione: circa 2'.\n",
    "\n",
    "\n",
    "\n",
    "\n",
    "\n",
    "\n"
   ]
  },
  {
   "cell_type": "code",
   "execution_count": 17,
   "id": "N73Ahn-ulSq6",
   "metadata": {
    "colab": {
     "base_uri": "https://localhost:8080/"
    },
    "execution": {
     "iopub.execute_input": "2025-10-09T10:27:19.210494Z",
     "iopub.status.busy": "2025-10-09T10:27:19.210297Z",
     "iopub.status.idle": "2025-10-09T10:27:40.101675Z",
     "shell.execute_reply": "2025-10-09T10:27:40.101164Z",
     "shell.execute_reply.started": "2025-10-09T10:27:19.210479Z"
    },
    "id": "N73Ahn-ulSq6",
    "outputId": "2426c521-a018-4b04-df50-ac661ad961c0"
   },
   "outputs": [
    {
     "name": "stderr",
     "output_type": "stream",
     "text": [
      "ffmpeg version 7.0.1-essentials_build-www.gyan.dev Copyright (c) 2000-2024 the FFmpeg developers\n",
      "  built with gcc 13.2.0 (Rev5, Built by MSYS2 project)\n",
      "  configuration: --enable-gpl --enable-version3 --enable-static --disable-w32threads --disable-autodetect --enable-fontconfig --enable-iconv --enable-gnutls --enable-libxml2 --enable-gmp --enable-bzlib --enable-lzma --enable-zlib --enable-libsrt --enable-libssh --enable-libzmq --enable-avisynth --enable-sdl2 --enable-libwebp --enable-libx264 --enable-libx265 --enable-libxvid --enable-libaom --enable-libopenjpeg --enable-libvpx --enable-mediafoundation --enable-libass --enable-libfreetype --enable-libfribidi --enable-libharfbuzz --enable-libvidstab --enable-libvmaf --enable-libzimg --enable-amf --enable-cuda-llvm --enable-cuvid --enable-dxva2 --enable-d3d11va --enable-d3d12va --enable-ffnvcodec --enable-libvpl --enable-nvdec --enable-nvenc --enable-vaapi --enable-libgme --enable-libopenmpt --enable-libopencore-amrwb --enable-libmp3lame --enable-libtheora --enable-libvo-amrwbenc --enable-libgsm --enable-libopencore-amrnb --enable-libopus --enable-libspeex --enable-libvorbis --enable-librubberband\n",
      "  libavutil      59.  8.100 / 59.  8.100\n",
      "  libavcodec     61.  3.100 / 61.  3.100\n",
      "  libavformat    61.  1.100 / 61.  1.100\n",
      "  libavdevice    61.  1.100 / 61.  1.100\n",
      "  libavfilter    10.  1.100 / 10.  1.100\n",
      "  libswscale      8.  1.100 /  8.  1.100\n",
      "  libswresample   5.  1.100 /  5.  1.100\n",
      "  libpostproc    58.  1.100 / 58.  1.100\n",
      "Input #0, mov,mp4,m4a,3gp,3g2,mj2, from 'video_strada.mp4':\n",
      "  Metadata:\n",
      "    major_brand     : mp42\n",
      "    minor_version   : 0\n",
      "    compatible_brands: isommp42\n",
      "    creation_time   : 2025-07-03T11:21:10.000000Z\n",
      "    com.android.version: 14\n",
      "    com.android.capture.fps: 30.000000\n",
      "  Duration: 00:00:31.79, start: 0.000000, bitrate: 17247 kb/s\n",
      "  Stream #0:0[0x1](eng): Video: h264 (High) (avc1 / 0x31637661), yuv420p(tv, bt709, progressive), 1920x1080, 16987 kb/s, 30.01 fps, 30 tbr, 90k tbn (default)\n",
      "      Metadata:\n",
      "        creation_time   : 2025-07-03T11:21:10.000000Z\n",
      "        handler_name    : VideoHandle\n",
      "        vendor_id       : [0][0][0][0]\n",
      "  Stream #0:1[0x2](eng): Audio: aac (LC) (mp4a / 0x6134706D), 48000 Hz, stereo, fltp, 256 kb/s (default)\n",
      "      Metadata:\n",
      "        creation_time   : 2025-07-03T11:21:10.000000Z\n",
      "        handler_name    : SoundHandle\n",
      "        vendor_id       : [0][0][0][0]\n",
      "Stream mapping:\n",
      "  Stream #0:0 -> #0:0 (h264 (native) -> h264 (libx264))\n",
      "  Stream #0:1 -> #0:1 (aac (native) -> aac (native))\n",
      "Press [q] to stop, [?] for help\n",
      "[libx264 @ 0000020da1ae0340] using cpu capabilities: MMX2 SSE2Fast SSSE3 SSE4.2 AVX FMA3 BMI2 AVX2 AVX512\n",
      "[libx264 @ 0000020da1ae0340] profile High, level 4.0, 4:2:0, 8-bit\n",
      "[libx264 @ 0000020da1ae0340] 264 - core 164 r3191 4613ac3 - H.264/MPEG-4 AVC codec - Copyleft 2003-2024 - http://www.videolan.org/x264.html - options: cabac=1 ref=3 deblock=1:0:0 analyse=0x3:0x113 me=hex subme=7 psy=1 psy_rd=1.00:0.00 mixed_ref=1 me_range=16 chroma_me=1 trellis=1 8x8dct=1 cqm=0 deadzone=21,11 fast_pskip=1 chroma_qp_offset=-2 threads=18 lookahead_threads=3 sliced_threads=0 nr=0 decimate=1 interlaced=0 bluray_compat=0 constrained_intra=0 bframes=3 b_pyramid=2 b_adapt=1 b_bias=0 direct=1 weightb=1 open_gop=0 weightp=2 keyint=250 keyint_min=25 scenecut=40 intra_refresh=0 rc_lookahead=40 rc=crf mbtree=1 crf=23.0 qcomp=0.60 qpmin=0 qpmax=69 qpstep=4 ip_ratio=1.40 aq=1:1.00\n",
      "Output #0, mp4, to 'video_strada_out.mp4':\n",
      "  Metadata:\n",
      "    major_brand     : mp42\n",
      "    minor_version   : 0\n",
      "    compatible_brands: isommp42\n",
      "    com.android.capture.fps: 30.000000\n",
      "    com.android.version: 14\n",
      "    encoder         : Lavf61.1.100\n",
      "  Stream #0:0(eng): Video: h264 (avc1 / 0x31637661), yuv420p(tv, bt709, progressive), 1920x1080, q=2-31, 30 fps, 15360 tbn (default)\n",
      "      Metadata:\n",
      "        creation_time   : 2025-07-03T11:21:10.000000Z\n",
      "        handler_name    : VideoHandle\n",
      "        vendor_id       : [0][0][0][0]\n",
      "        encoder         : Lavc61.3.100 libx264\n",
      "      Side data:\n",
      "        cpb: bitrate max/min/avg: 0/0/0 buffer size: 0 vbv_delay: N/A\n",
      "  Stream #0:1(eng): Audio: aac (LC) (mp4a / 0x6134706D), 48000 Hz, stereo, fltp, 128 kb/s (default)\n",
      "      Metadata:\n",
      "        creation_time   : 2025-07-03T11:21:10.000000Z\n",
      "        handler_name    : SoundHandle\n",
      "        vendor_id       : [0][0][0][0]\n",
      "        encoder         : Lavc61.3.100 aac\n",
      "frame=    1 fps=0.0 q=29.0 size=       0KiB time=-00:00:00.03 bitrate=N/A speed=N/A    \n",
      "frame=   23 fps= 22 q=29.0 size=    1280KiB time=00:00:00.70 bitrate=14980.2kbits/s speed=0.682x    \n",
      "frame=   48 fps= 31 q=29.0 size=    2816KiB time=00:00:01.53 bitrate=15045.0kbits/s speed=0.997x    \n",
      "frame=   78 fps= 38 q=29.0 size=    4352KiB time=00:00:02.53 bitrate=14073.1kbits/s speed=1.23x    \n",
      "frame=  104 fps= 40 q=29.0 size=    5888KiB time=00:00:03.40 bitrate=14186.7kbits/s speed=1.32x    \n",
      "frame=  125 fps= 40 q=29.0 size=    6656KiB time=00:00:04.10 bitrate=13299.1kbits/s speed=1.33x    \n",
      "frame=  151 fps= 42 q=29.0 size=    7680KiB time=00:00:04.96 bitrate=12667.4kbits/s speed=1.38x    \n",
      "frame=  178 fps= 43 q=29.0 size=    8704KiB time=00:00:05.86 bitrate=12154.0kbits/s speed=1.42x    \n",
      "frame=  204 fps= 44 q=29.0 size=    9472KiB time=00:00:06.73 bitrate=11524.0kbits/s speed=1.45x    \n",
      "frame=  227 fps= 44 q=29.0 size=   10752KiB time=00:00:07.50 bitrate=11744.1kbits/s speed=1.45x    \n",
      "frame=  255 fps= 45 q=29.0 size=   11776KiB time=00:00:08.43 bitrate=11439.1kbits/s speed=1.48x    \n",
      "frame=  279 fps= 45 q=29.0 size=   12544KiB time=00:00:09.23 bitrate=11129.3kbits/s speed=1.49x    \n",
      "frame=  308 fps= 46 q=29.0 size=   13568KiB time=00:00:10.20 bitrate=10897.0kbits/s speed=1.51x    \n",
      "frame=  335 fps= 46 q=29.0 size=   14336KiB time=00:00:11.10 bitrate=10580.3kbits/s speed=1.53x    \n",
      "frame=  366 fps= 47 q=29.0 size=   15104KiB time=00:00:12.13 bitrate=10197.7kbits/s speed=1.56x    \n",
      "frame=  395 fps= 48 q=29.0 size=   16128KiB time=00:00:13.10 bitrate=10085.6kbits/s speed=1.58x    \n",
      "frame=  419 fps= 48 q=29.0 size=   16896KiB time=00:00:13.90 bitrate=9957.7kbits/s speed=1.58x    \n",
      "frame=  445 fps= 48 q=29.0 size=   17920KiB time=00:00:14.76 bitrate=9941.4kbits/s speed=1.59x    \n",
      "frame=  474 fps= 48 q=29.0 size=   19712KiB time=00:00:15.73 bitrate=10263.6kbits/s speed= 1.6x    \n",
      "frame=  496 fps= 48 q=29.0 size=   20736KiB time=00:00:16.46 bitrate=10316.0kbits/s speed=1.59x    \n",
      "frame=  524 fps= 48 q=29.0 size=   22528KiB time=00:00:17.40 bitrate=10606.3kbits/s speed= 1.6x    \n",
      "frame=  545 fps= 48 q=29.0 size=   23808KiB time=00:00:18.10 bitrate=10775.4kbits/s speed=1.59x    \n",
      "frame=  570 fps= 48 q=29.0 size=   25088KiB time=00:00:18.93 bitrate=10855.0kbits/s speed=1.59x    \n",
      "frame=  597 fps= 48 q=29.0 size=   27136KiB time=00:00:19.83 bitrate=11208.3kbits/s speed= 1.6x    \n",
      "frame=  621 fps= 48 q=29.0 size=   28928KiB time=00:00:20.63 bitrate=11485.2kbits/s speed=1.59x    \n",
      "frame=  648 fps= 48 q=29.0 size=   30720KiB time=00:00:21.53 bitrate=11686.9kbits/s speed= 1.6x    \n",
      "frame=  670 fps= 48 q=29.0 size=   32512KiB time=00:00:22.26 bitrate=11961.3kbits/s speed=1.59x    \n",
      "frame=  697 fps= 48 q=29.0 size=   34560KiB time=00:00:23.16 bitrate=12220.8kbits/s speed= 1.6x    \n",
      "frame=  718 fps= 48 q=29.0 size=   36096KiB time=00:00:23.86 bitrate=12389.6kbits/s speed=1.59x    \n",
      "frame=  727 fps= 47 q=29.0 size=   37376KiB time=00:00:24.16 bitrate=12669.7kbits/s speed=1.55x    \n",
      "frame=  742 fps= 46 q=29.0 size=   39680KiB time=00:00:24.66 bitrate=13178.1kbits/s speed=1.53x    \n",
      "frame=  755 fps= 45 q=29.0 size=   41216KiB time=00:00:25.10 bitrate=13451.9kbits/s speed=1.51x    \n",
      "frame=  772 fps= 45 q=29.0 size=   43264KiB time=00:00:25.66 bitrate=13808.5kbits/s speed= 1.5x    \n",
      "frame=  792 fps= 45 q=29.0 size=   44800KiB time=00:00:26.33 bitrate=13936.8kbits/s speed=1.49x    \n",
      "frame=  814 fps= 45 q=29.0 size=   46592KiB time=00:00:27.06 bitrate=14101.6kbits/s speed=1.49x    \n",
      "frame=  839 fps= 45 q=29.0 size=   47616KiB time=00:00:27.90 bitrate=13981.0kbits/s speed=1.49x    \n",
      "frame=  864 fps= 45 q=29.0 size=   48896KiB time=00:00:28.73 bitrate=13940.5kbits/s speed=1.49x    \n",
      "frame=  890 fps= 45 q=29.0 size=   49920KiB time=N/A bitrate=N/A speed=N/A    \n",
      "frame=  924 fps= 46 q=29.0 size=   50944KiB time=N/A bitrate=N/A speed=N/A    \n",
      "[out#0/mp4 @ 0000020da1a2c980] video:51451KiB audio:501KiB subtitle:0KiB other streams:0KiB global headers:0KiB muxing overhead: 0.064162%\n",
      "frame=  954 fps= 46 q=-1.0 Lsize=   51985KiB time=00:00:31.73 bitrate=13420.0kbits/s speed=1.54x    \n",
      "[libx264 @ 0000020da1ae0340] frame I:5     Avg QP:24.77  size:199286\n",
      "[libx264 @ 0000020da1ae0340] frame P:519   Avg QP:26.74  size: 80100\n",
      "[libx264 @ 0000020da1ae0340] frame B:430   Avg QP:29.16  size: 23527\n",
      "[libx264 @ 0000020da1ae0340] consecutive B-frames: 35.7%  9.0% 10.4% 44.9%\n",
      "[libx264 @ 0000020da1ae0340] mb I  I16..4:  0.6% 85.8% 13.6%\n",
      "[libx264 @ 0000020da1ae0340] mb P  I16..4:  0.3% 11.6%  2.2%  P16..4: 46.4% 18.4% 11.4%  0.0%  0.0%    skip: 9.7%\n",
      "[libx264 @ 0000020da1ae0340] mb B  I16..4:  0.1%  1.5%  0.2%  B16..8: 45.4%  5.8%  1.2%  direct: 6.1%  skip:39.8%  L0:50.4% L1:40.4% BI: 9.2%\n",
      "[libx264 @ 0000020da1ae0340] 8x8 transform intra:82.9% inter:80.3%\n",
      "[libx264 @ 0000020da1ae0340] coded y,uvDC,uvAC intra: 91.6% 55.9% 16.5% inter: 41.4% 27.3% 3.3%\n",
      "[libx264 @ 0000020da1ae0340] i16 v,h,dc,p: 41% 22% 15% 21%\n",
      "[libx264 @ 0000020da1ae0340] i8 v,h,dc,ddl,ddr,vr,hd,vl,hu: 16% 16% 14%  6% 10%  8% 13%  6% 11%\n",
      "[libx264 @ 0000020da1ae0340] i4 v,h,dc,ddl,ddr,vr,hd,vl,hu: 17% 18%  9%  7% 12%  9% 14%  6%  9%\n",
      "[libx264 @ 0000020da1ae0340] i8c dc,h,v,p: 63% 20% 13%  4%\n",
      "[libx264 @ 0000020da1ae0340] Weighted P-Frames: Y:8.3% UV:2.7%\n",
      "[libx264 @ 0000020da1ae0340] ref P L0: 70.5% 17.0%  9.4%  2.9%  0.2%\n",
      "[libx264 @ 0000020da1ae0340] ref B L0: 94.4%  4.8%  0.8%\n",
      "[libx264 @ 0000020da1ae0340] ref B L1: 98.8%  1.2%\n",
      "[libx264 @ 0000020da1ae0340] kb/s:13254.05\n",
      "[aac @ 0000020da1a34140] Qavg: 621.773\n"
     ]
    }
   ],
   "source": [
    "!ffmpeg -i video_strada.mp4 -vf \"scale=-1:1080,pad=1920:1080:(ow-iw)/2:(oh-ih)/2\" video_strada_out.mp4"
   ]
  },
  {
   "cell_type": "markdown",
   "id": "aeh1kYCPaZM6",
   "metadata": {
    "id": "aeh1kYCPaZM6"
   },
   "source": [
    "Eseguiamolo (20 secondi di caricamento):"
   ]
  },
  {
   "cell_type": "code",
   "execution_count": 14,
   "id": "1mYG_GwlaXrK",
   "metadata": {
    "colab": {
     "base_uri": "https://localhost:8080/",
     "height": 382
    },
    "execution": {
     "iopub.execute_input": "2025-10-09T16:36:32.351288Z",
     "iopub.status.busy": "2025-10-09T16:36:32.350864Z",
     "iopub.status.idle": "2025-10-09T16:36:32.354415Z",
     "shell.execute_reply": "2025-10-09T16:36:32.354018Z",
     "shell.execute_reply.started": "2025-10-09T16:36:32.351270Z"
    },
    "id": "1mYG_GwlaXrK",
    "outputId": "82f96094-57e9-4a80-985a-25c07f193c5d"
   },
   "outputs": [],
   "source": [
    "if IN_COLAB:\n",
    "    from IPython.display import Video, display\n",
    "    display(Video(\"/content/video_strada_2_landscape.mp4\", embed=True, width=640))"
   ]
  },
  {
   "cell_type": "markdown",
   "id": "18lSHuz4m_zi",
   "metadata": {
    "id": "18lSHuz4m_zi"
   },
   "source": [
    "Il rendering precedente funziona con Chrome (browser e IDE dello **stesso ecosistema Google!**), ha problemi con Firefox."
   ]
  },
  {
   "cell_type": "markdown",
   "id": "qKvFi_48Q4L2",
   "metadata": {
    "id": "qKvFi_48Q4L2"
   },
   "source": [
    "Possiamo preliminarmente fare **alcune analisi del nostro video <u>in input</u>**."
   ]
  },
  {
   "cell_type": "markdown",
   "id": "eb83ba56-5a35-4753-add5-37a55998e2ab",
   "metadata": {
    "execution": {
     "iopub.execute_input": "2025-07-03T20:10:23.013974Z",
     "iopub.status.busy": "2025-07-03T20:10:23.013686Z",
     "iopub.status.idle": "2025-07-03T20:10:23.018684Z",
     "shell.execute_reply": "2025-07-03T20:10:23.018072Z",
     "shell.execute_reply.started": "2025-07-03T20:10:23.013955Z"
    },
    "id": "eb83ba56-5a35-4753-add5-37a55998e2ab"
   },
   "source": [
    "Per sapere il **numero di frame** del nostro video ed avere anche **altre informazioni** sul video stesso si usa il package `cv2`, il modulo Python di OpenCV (Open Source Computer Vision Library), e il metodo `VideoCapture`:"
   ]
  },
  {
   "cell_type": "code",
   "execution_count": 15,
   "id": "5840f94a-e771-4819-aaad-39d028063e18",
   "metadata": {
    "colab": {
     "base_uri": "https://localhost:8080/"
    },
    "execution": {
     "iopub.execute_input": "2025-10-09T16:36:48.818042Z",
     "iopub.status.busy": "2025-10-09T16:36:48.817853Z",
     "iopub.status.idle": "2025-10-09T16:36:48.845573Z",
     "shell.execute_reply": "2025-10-09T16:36:48.845130Z",
     "shell.execute_reply.started": "2025-10-09T16:36:48.818028Z"
    },
    "id": "5840f94a-e771-4819-aaad-39d028063e18",
    "outputId": "5faaf742-c1af-465b-a3ad-e4d9e093d5e2"
   },
   "outputs": [
    {
     "name": "stdout",
     "output_type": "stream",
     "text": [
      "Numero totale di frame: 954\n"
     ]
    }
   ],
   "source": [
    "import cv2\n",
    "\n",
    "cap = cv2.VideoCapture(\"video_strada_out.mp4\")\n",
    "total_frames = int(cap.get(cv2.CAP_PROP_FRAME_COUNT))\n",
    "cap.release()\n",
    "\n",
    "print(f\"Numero totale di frame: {total_frames}\")\n"
   ]
  },
  {
   "cell_type": "markdown",
   "id": "5c7e28a0-638f-4fa8-ae92-ca11e92eb1b4",
   "metadata": {
    "id": "5c7e28a0-638f-4fa8-ae92-ca11e92eb1b4"
   },
   "source": [
    "Per avere altre informazioni:"
   ]
  },
  {
   "cell_type": "code",
   "execution_count": 16,
   "id": "ba39783f-dbf4-4077-a32a-7eb5b2640c16",
   "metadata": {
    "colab": {
     "base_uri": "https://localhost:8080/"
    },
    "execution": {
     "iopub.execute_input": "2025-10-09T16:36:52.029676Z",
     "iopub.status.busy": "2025-10-09T16:36:52.029476Z",
     "iopub.status.idle": "2025-10-09T16:36:52.052240Z",
     "shell.execute_reply": "2025-10-09T16:36:52.051865Z",
     "shell.execute_reply.started": "2025-10-09T16:36:52.029662Z"
    },
    "id": "ba39783f-dbf4-4077-a32a-7eb5b2640c16",
    "outputId": "24a539e9-998d-417e-f801-b8d872fff58f"
   },
   "outputs": [
    {
     "name": "stdout",
     "output_type": "stream",
     "text": [
      "Risoluzione: 1920x1080\n",
      "FPS: 30.0\n",
      "Numero totale di frame: 954\n",
      "Durata del video: 31.80 secondi\n"
     ]
    }
   ],
   "source": [
    "import cv2\n",
    "\n",
    "# Apri il video\n",
    "cap = cv2.VideoCapture(\"video_strada_out.mp4\")\n",
    "\n",
    "# Estrai informazioni\n",
    "fps = cap.get(cv2.CAP_PROP_FPS)  # frame per secondo\n",
    "frame_count = int(cap.get(cv2.CAP_PROP_FRAME_COUNT))  # numero totale di frame\n",
    "width = int(cap.get(cv2.CAP_PROP_FRAME_WIDTH))  # larghezza frame\n",
    "height = int(cap.get(cv2.CAP_PROP_FRAME_HEIGHT))  # altezza frame\n",
    "duration = frame_count / fps  # durata in secondi\n",
    "\n",
    "# Mostra le info\n",
    "print(f\"Risoluzione: {width}x{height}\")\n",
    "print(f\"FPS: {fps}\")\n",
    "print(f\"Numero totale di frame: {frame_count}\")\n",
    "print(f\"Durata del video: {duration:.2f} secondi\")\n",
    "\n",
    "cap.release()\n"
   ]
  },
  {
   "cell_type": "code",
   "execution_count": 17,
   "id": "6bcb4ac7-5c0b-4d20-8ddf-2af1571d8482",
   "metadata": {
    "colab": {
     "base_uri": "https://localhost:8080/"
    },
    "execution": {
     "iopub.execute_input": "2025-10-09T16:37:10.233188Z",
     "iopub.status.busy": "2025-10-09T16:37:10.232990Z",
     "iopub.status.idle": "2025-10-09T16:37:10.237463Z",
     "shell.execute_reply": "2025-10-09T16:37:10.236899Z",
     "shell.execute_reply.started": "2025-10-09T16:37:10.233175Z"
    },
    "id": "6bcb4ac7-5c0b-4d20-8ddf-2af1571d8482",
    "outputId": "b1299d6a-8045-4d20-d945-bc01d356a1db"
   },
   "outputs": [
    {
     "data": {
      "text/plain": [
       "30.774193548387096"
      ]
     },
     "execution_count": 17,
     "metadata": {},
     "output_type": "execute_result"
    }
   ],
   "source": [
    "954/31.00 # frame per second"
   ]
  },
  {
   "cell_type": "markdown",
   "id": "54bf7e39-d8ef-4ecd-b706-b35d71ad3a74",
   "metadata": {
    "id": "54bf7e39-d8ef-4ecd-b706-b35d71ad3a74"
   },
   "source": [
    "# Il rilevamento degli oggetti\n",
    "\n",
    "**<u>E ora finalmente facciamo il rilevamento degli oggetti</u>**, tramite il metodo `model.predict` di *Ultralytics*.\n",
    "\n",
    "L'elaborazione del file `video_strada_2.mp4` richiede:\n",
    "- **circa 3'30\"** sulla CPU 4Ghz, 16GB RAM del mio desktop\n",
    "- **circa 4'20\"** sulla T4-GPU con high-ram di Colab\n",
    "- **circa 6'20\"** sulla CPU di Colab\n",
    "\n",
    "NB. High RAM deselezionato **peggiora** molto questi tempi.\n",
    "\n",
    "Vedi più avanti per un commento tecnico a questi tempi di esecuzione.\n",
    "\n",
    "Il rilevamento oggetti tecnicamente parlando è una **previsione** di inboxing/classificazione di ogni cella della griglia, per ogni dataframe. E' una sola (YOLO v8 è one-shot). Da qui il nome del metodo di *Ultralytics* `(model.predict)`."
   ]
  },
  {
   "cell_type": "markdown",
   "id": "GjHujCkNdaf4",
   "metadata": {
    "id": "GjHujCkNdaf4"
   },
   "source": [
    "---\n",
    "> Nella AI questa si chiama **inferenza** (del modello allenato, cioè del **suo uso per prevedere/classificare/generare**).\n",
    "\n",
    "---"
   ]
  },
  {
   "cell_type": "markdown",
   "id": "c580eb4e-b5e2-450a-814d-861a7c613035",
   "metadata": {
    "id": "c580eb4e-b5e2-450a-814d-861a7c613035"
   },
   "source": [
    "I parametri della `model.predict`:\n",
    "- `source`:\n",
    "    * `source=0` per la webcam principale - in genere 0,1, oppure 2 (provare)\n",
    "    * `source=\"path/to/image.jpg\"` per un’immagine\n",
    "    * `source=\"path/to/video.mp4\"` per un video\n",
    "    * `source=\"rtsp://...\"` per uno stream IP\n",
    "- `device='cpu'`:\n",
    "    * usa la CPU per l’elaborazione.\n",
    "    * se si ha una GPU e si ha installato PyTorch con supporto CUDA, si può impostare `device='cuda'`.\n",
    "- `imgsz=640`:\n",
    "    * imposta la dimensione dei frame a 640×640 pixel.\n",
    "    * YOLOv8 lavora meglio se le immagini sono quadrate e di dimensioni standard (320, 640, 1280…).\n",
    "    * maggiore è il valore, più dettagli cattura (ma serve più potenza hardware).<br>\n",
    "    NB. il parametro imgsz` **si riferisce all’input**, ovvero alla dimensione con cui YOLOv8 ridimensiona ogni frame del video prima di passarlo alla rete neurale per il rilevamento oggetti.<br>\n",
    "    Cosa fa esattamente imgsz=640?<br>\n",
    "      - Ogni frame del video viene ridimensionato (resized) a una risoluzione di 640×640 pixel.\n",
    "      - Questo è il formato di input atteso dal modello per lavorare in modo ottimale.\n",
    "      - Non cambia la risoluzione originale del video, né influenza direttamente la risoluzione del video in output, che può rimanere uguale all’originale (a seconda del backend di salvataggio usato da Ultralytics).\n",
    "\n",
    "\n",
    "\n",
    "- `conf=0.1`:\n",
    "    * imposta la confidence threshold a 0.1.\n",
    "    * YOLO rileva oggetti solo se la probabilità della classe è superiore a questo valore.\n",
    "    * **di solito si imposta tra 0.25 e 0.5**, ma qui l'abbiamo messa bassa per “vedere tutto quello che il modello riesce a pescare” (le sue potenzialità).\n",
    "    * si è visto sperimentalmente che, con questa confidenza, YOLOv8 fa comunque pochi errori (mis-classificazioni)\n",
    "- `show=True`:\n",
    "    * mostra le immagini o i frame annotati in una finestra pop-up (usando `cv2.imshow`) in tempo reale; non funziona in Jupyter Notebook o Google Colab, **solo in ambienti standalone** (come Spyder, IDLE o script Python lanciati da terminale).\n",
    "- `stream=True`:\n",
    "    * se True, processa i frame in **streaming**; è utile nei notebook per evitare che vengano salvati tutti i frame nella variabile `results` (che occuperebbe tanta RAM).\n",
    "    * cioè, invece di restituire tutti i risultati in una lista in memoria (`results`), YOLOv8 ti restituisce un generatore, cioè un oggetto che produce i risultati uno alla volta, frame per frame.<br>\n",
    "    Questo:\n",
    "      - riduce il consumo di RAM\n",
    "      - è perfetto per video lunghi\n",
    "      - funziona benissimo anche con GPU\n",
    "\n",
    "\n",
    "- `save=True`:\n",
    "    * salva il video di output (annotato con bounding box, etichette di classe, confidenze) nella directory `runs/detect/predictN` di default. Il nome del file sarà simile al <nome-video.**mp4**> ma modificato come formato (es: <nome-video.**avi**>)"
   ]
  },
  {
   "cell_type": "markdown",
   "id": "Y4lrdcV8OqyW",
   "metadata": {
    "id": "Y4lrdcV8OqyW"
   },
   "source": [
    "La `model.predict` PUO' essere assegnata ad una variabile di risultato, come detto prima e come fatto nella cella successiva (`results`):"
   ]
  },
  {
   "cell_type": "code",
   "execution_count": null,
   "id": "7b736c8c-ffd0-407a-87ce-6f8fd03211d0",
   "metadata": {
    "colab": {
     "base_uri": "https://localhost:8080/"
    },
    "execution": {
     "iopub.execute_input": "2025-10-09T16:37:19.168924Z",
     "iopub.status.busy": "2025-10-09T16:37:19.168726Z"
    },
    "id": "7b736c8c-ffd0-407a-87ce-6f8fd03211d0",
    "outputId": "99640467-c062-47e9-b054-53118a74df97"
   },
   "outputs": [
    {
     "name": "stdout",
     "output_type": "stream",
     "text": [
      "\n",
      "WARNING \n",
      "inference results will accumulate in RAM unless `stream=True` is passed, causing potential out-of-memory\n",
      "errors for large sources or long-running streams and videos. See https://docs.ultralytics.com/modes/predict/ for help.\n",
      "\n",
      "Example:\n",
      "    results = model(source=..., stream=True)  # generator of Results objects\n",
      "    for r in results:\n",
      "        boxes = r.boxes  # Boxes object for bbox outputs\n",
      "        masks = r.masks  # Masks object for segment masks outputs\n",
      "        probs = r.probs  # Class probabilities for classification outputs\n",
      "\n",
      "video 1/1 (frame 1/954) C:\\Users\\Utente\\Desktop\\salvataggi\\SALVATAGGIO DATI\\Documents\\Seminari\\Data Science (corsi)\\Corso Reti Neurali\\Computer Vision\\video_strada_out.mp4: 384x640 2 cars, 166.1ms\n",
      "video 1/1 (frame 2/954) C:\\Users\\Utente\\Desktop\\salvataggi\\SALVATAGGIO DATI\\Documents\\Seminari\\Data Science (corsi)\\Corso Reti Neurali\\Computer Vision\\video_strada_out.mp4: 384x640 2 persons, 2 cars, 140.4ms\n",
      "video 1/1 (frame 3/954) C:\\Users\\Utente\\Desktop\\salvataggi\\SALVATAGGIO DATI\\Documents\\Seminari\\Data Science (corsi)\\Corso Reti Neurali\\Computer Vision\\video_strada_out.mp4: 384x640 1 person, 2 cars, 150.8ms\n",
      "video 1/1 (frame 4/954) C:\\Users\\Utente\\Desktop\\salvataggi\\SALVATAGGIO DATI\\Documents\\Seminari\\Data Science (corsi)\\Corso Reti Neurali\\Computer Vision\\video_strada_out.mp4: 384x640 2 cars, 147.7ms\n",
      "video 1/1 (frame 5/954) C:\\Users\\Utente\\Desktop\\salvataggi\\SALVATAGGIO DATI\\Documents\\Seminari\\Data Science (corsi)\\Corso Reti Neurali\\Computer Vision\\video_strada_out.mp4: 384x640 2 cars, 149.6ms\n",
      "video 1/1 (frame 6/954) C:\\Users\\Utente\\Desktop\\salvataggi\\SALVATAGGIO DATI\\Documents\\Seminari\\Data Science (corsi)\\Corso Reti Neurali\\Computer Vision\\video_strada_out.mp4: 384x640 2 cars, 139.3ms\n",
      "video 1/1 (frame 7/954) C:\\Users\\Utente\\Desktop\\salvataggi\\SALVATAGGIO DATI\\Documents\\Seminari\\Data Science (corsi)\\Corso Reti Neurali\\Computer Vision\\video_strada_out.mp4: 384x640 2 cars, 151.6ms\n",
      "video 1/1 (frame 8/954) C:\\Users\\Utente\\Desktop\\salvataggi\\SALVATAGGIO DATI\\Documents\\Seminari\\Data Science (corsi)\\Corso Reti Neurali\\Computer Vision\\video_strada_out.mp4: 384x640 2 cars, 144.3ms\n",
      "video 1/1 (frame 9/954) C:\\Users\\Utente\\Desktop\\salvataggi\\SALVATAGGIO DATI\\Documents\\Seminari\\Data Science (corsi)\\Corso Reti Neurali\\Computer Vision\\video_strada_out.mp4: 384x640 2 cars, 142.7ms\n",
      "video 1/1 (frame 10/954) C:\\Users\\Utente\\Desktop\\salvataggi\\SALVATAGGIO DATI\\Documents\\Seminari\\Data Science (corsi)\\Corso Reti Neurali\\Computer Vision\\video_strada_out.mp4: 384x640 1 car, 146.5ms\n",
      "video 1/1 (frame 11/954) C:\\Users\\Utente\\Desktop\\salvataggi\\SALVATAGGIO DATI\\Documents\\Seminari\\Data Science (corsi)\\Corso Reti Neurali\\Computer Vision\\video_strada_out.mp4: 384x640 1 car, 149.4ms\n",
      "video 1/1 (frame 12/954) C:\\Users\\Utente\\Desktop\\salvataggi\\SALVATAGGIO DATI\\Documents\\Seminari\\Data Science (corsi)\\Corso Reti Neurali\\Computer Vision\\video_strada_out.mp4: 384x640 (no detections), 139.5ms\n",
      "video 1/1 (frame 13/954) C:\\Users\\Utente\\Desktop\\salvataggi\\SALVATAGGIO DATI\\Documents\\Seminari\\Data Science (corsi)\\Corso Reti Neurali\\Computer Vision\\video_strada_out.mp4: 384x640 (no detections), 142.4ms\n",
      "video 1/1 (frame 14/954) C:\\Users\\Utente\\Desktop\\salvataggi\\SALVATAGGIO DATI\\Documents\\Seminari\\Data Science (corsi)\\Corso Reti Neurali\\Computer Vision\\video_strada_out.mp4: 384x640 (no detections), 144.8ms\n",
      "video 1/1 (frame 15/954) C:\\Users\\Utente\\Desktop\\salvataggi\\SALVATAGGIO DATI\\Documents\\Seminari\\Data Science (corsi)\\Corso Reti Neurali\\Computer Vision\\video_strada_out.mp4: 384x640 (no detections), 147.9ms\n",
      "video 1/1 (frame 16/954) C:\\Users\\Utente\\Desktop\\salvataggi\\SALVATAGGIO DATI\\Documents\\Seminari\\Data Science (corsi)\\Corso Reti Neurali\\Computer Vision\\video_strada_out.mp4: 384x640 (no detections), 142.6ms\n",
      "video 1/1 (frame 17/954) C:\\Users\\Utente\\Desktop\\salvataggi\\SALVATAGGIO DATI\\Documents\\Seminari\\Data Science (corsi)\\Corso Reti Neurali\\Computer Vision\\video_strada_out.mp4: 384x640 (no detections), 142.3ms\n",
      "video 1/1 (frame 18/954) C:\\Users\\Utente\\Desktop\\salvataggi\\SALVATAGGIO DATI\\Documents\\Seminari\\Data Science (corsi)\\Corso Reti Neurali\\Computer Vision\\video_strada_out.mp4: 384x640 (no detections), 144.4ms\n",
      "video 1/1 (frame 19/954) C:\\Users\\Utente\\Desktop\\salvataggi\\SALVATAGGIO DATI\\Documents\\Seminari\\Data Science (corsi)\\Corso Reti Neurali\\Computer Vision\\video_strada_out.mp4: 384x640 (no detections), 144.7ms\n",
      "video 1/1 (frame 20/954) C:\\Users\\Utente\\Desktop\\salvataggi\\SALVATAGGIO DATI\\Documents\\Seminari\\Data Science (corsi)\\Corso Reti Neurali\\Computer Vision\\video_strada_out.mp4: 384x640 (no detections), 143.4ms\n",
      "video 1/1 (frame 21/954) C:\\Users\\Utente\\Desktop\\salvataggi\\SALVATAGGIO DATI\\Documents\\Seminari\\Data Science (corsi)\\Corso Reti Neurali\\Computer Vision\\video_strada_out.mp4: 384x640 (no detections), 153.9ms\n",
      "video 1/1 (frame 22/954) C:\\Users\\Utente\\Desktop\\salvataggi\\SALVATAGGIO DATI\\Documents\\Seminari\\Data Science (corsi)\\Corso Reti Neurali\\Computer Vision\\video_strada_out.mp4: 384x640 (no detections), 143.9ms\n",
      "video 1/1 (frame 23/954) C:\\Users\\Utente\\Desktop\\salvataggi\\SALVATAGGIO DATI\\Documents\\Seminari\\Data Science (corsi)\\Corso Reti Neurali\\Computer Vision\\video_strada_out.mp4: 384x640 (no detections), 146.4ms\n",
      "video 1/1 (frame 24/954) C:\\Users\\Utente\\Desktop\\salvataggi\\SALVATAGGIO DATI\\Documents\\Seminari\\Data Science (corsi)\\Corso Reti Neurali\\Computer Vision\\video_strada_out.mp4: 384x640 (no detections), 143.0ms\n",
      "video 1/1 (frame 25/954) C:\\Users\\Utente\\Desktop\\salvataggi\\SALVATAGGIO DATI\\Documents\\Seminari\\Data Science (corsi)\\Corso Reti Neurali\\Computer Vision\\video_strada_out.mp4: 384x640 (no detections), 146.1ms\n",
      "video 1/1 (frame 26/954) C:\\Users\\Utente\\Desktop\\salvataggi\\SALVATAGGIO DATI\\Documents\\Seminari\\Data Science (corsi)\\Corso Reti Neurali\\Computer Vision\\video_strada_out.mp4: 384x640 1 car, 152.9ms\n",
      "video 1/1 (frame 27/954) C:\\Users\\Utente\\Desktop\\salvataggi\\SALVATAGGIO DATI\\Documents\\Seminari\\Data Science (corsi)\\Corso Reti Neurali\\Computer Vision\\video_strada_out.mp4: 384x640 1 car, 151.9ms\n",
      "video 1/1 (frame 28/954) C:\\Users\\Utente\\Desktop\\salvataggi\\SALVATAGGIO DATI\\Documents\\Seminari\\Data Science (corsi)\\Corso Reti Neurali\\Computer Vision\\video_strada_out.mp4: 384x640 2 cars, 154.4ms\n",
      "video 1/1 (frame 29/954) C:\\Users\\Utente\\Desktop\\salvataggi\\SALVATAGGIO DATI\\Documents\\Seminari\\Data Science (corsi)\\Corso Reti Neurali\\Computer Vision\\video_strada_out.mp4: 384x640 2 cars, 147.6ms\n",
      "video 1/1 (frame 30/954) C:\\Users\\Utente\\Desktop\\salvataggi\\SALVATAGGIO DATI\\Documents\\Seminari\\Data Science (corsi)\\Corso Reti Neurali\\Computer Vision\\video_strada_out.mp4: 384x640 1 car, 149.8ms\n",
      "video 1/1 (frame 31/954) C:\\Users\\Utente\\Desktop\\salvataggi\\SALVATAGGIO DATI\\Documents\\Seminari\\Data Science (corsi)\\Corso Reti Neurali\\Computer Vision\\video_strada_out.mp4: 384x640 1 car, 149.0ms\n",
      "video 1/1 (frame 32/954) C:\\Users\\Utente\\Desktop\\salvataggi\\SALVATAGGIO DATI\\Documents\\Seminari\\Data Science (corsi)\\Corso Reti Neurali\\Computer Vision\\video_strada_out.mp4: 384x640 1 car, 147.9ms\n",
      "video 1/1 (frame 33/954) C:\\Users\\Utente\\Desktop\\salvataggi\\SALVATAGGIO DATI\\Documents\\Seminari\\Data Science (corsi)\\Corso Reti Neurali\\Computer Vision\\video_strada_out.mp4: 384x640 1 car, 151.9ms\n",
      "video 1/1 (frame 34/954) C:\\Users\\Utente\\Desktop\\salvataggi\\SALVATAGGIO DATI\\Documents\\Seminari\\Data Science (corsi)\\Corso Reti Neurali\\Computer Vision\\video_strada_out.mp4: 384x640 1 car, 152.5ms\n",
      "video 1/1 (frame 35/954) C:\\Users\\Utente\\Desktop\\salvataggi\\SALVATAGGIO DATI\\Documents\\Seminari\\Data Science (corsi)\\Corso Reti Neurali\\Computer Vision\\video_strada_out.mp4: 384x640 1 car, 150.5ms\n",
      "video 1/1 (frame 36/954) C:\\Users\\Utente\\Desktop\\salvataggi\\SALVATAGGIO DATI\\Documents\\Seminari\\Data Science (corsi)\\Corso Reti Neurali\\Computer Vision\\video_strada_out.mp4: 384x640 1 car, 146.9ms\n",
      "video 1/1 (frame 37/954) C:\\Users\\Utente\\Desktop\\salvataggi\\SALVATAGGIO DATI\\Documents\\Seminari\\Data Science (corsi)\\Corso Reti Neurali\\Computer Vision\\video_strada_out.mp4: 384x640 1 car, 143.9ms\n",
      "video 1/1 (frame 38/954) C:\\Users\\Utente\\Desktop\\salvataggi\\SALVATAGGIO DATI\\Documents\\Seminari\\Data Science (corsi)\\Corso Reti Neurali\\Computer Vision\\video_strada_out.mp4: 384x640 1 car, 146.5ms\n"
     ]
    }
   ],
   "source": [
    "results = model.predict(\n",
    "    # source=0,\n",
    "    source='video_strada_out.mp4',\n",
    "    device='cpu',   # oppure 'gpu'\n",
    "    imgsz=640,\n",
    "    conf=0.1,\n",
    "    # show=True,\n",
    "    # stream = True,   # def. False\n",
    "    save=True\n",
    ")\n"
   ]
  },
  {
   "cell_type": "markdown",
   "id": "1a1a7081-fc76-475a-904d-8ccc1f892ff3",
   "metadata": {
    "id": "1a1a7081-fc76-475a-904d-8ccc1f892ff3"
   },
   "source": [
    "Il codice di questa cella analizza il video frame per frame, rileva oggetti oppure no (\"no detections\") nei vari frame, salva il video **annotato (bounding box, etichette, confidenza**) nella sotto directory `runs/predict/predictN/`.\n",
    "\n",
    "`model.predict()` **termina automaticamente** quando ha processato tutti i frame del video.\n",
    "\n",
    "In questo caso:\n",
    "- il video ha 965 frame (lo si vede dal log)\n",
    "- YOLO elabora un frame alla volta\n",
    "- alla fine, salva il video elaborato nella cartella `runs/predict/predictX/`\n",
    "\n",
    "**Quanto ci mette?** Dipende da:\n",
    "- CPU (più lenta rispetto a una GPU)\n",
    "- Lunghezza del video (in secondi / numero di frame)\n",
    "- Risoluzione dei frame (imgsz=640)\n",
    "- Numero di oggetti rilevati per frame\n",
    "\n",
    "Con CPU su un video normale (1 minuto a 30 fps = ~1800 frame), può impiegare anche diversi minuti (es. 2–10 minuti).\n",
    "\n",
    "**Come sapere quando ha finito?**<br>\n",
    "Nel log c'è una riga senza più aggiornamento dei frame.<br>\n",
    "L’ultima riga dirà qualcosa tipo:<br>\n",
    "*Results saved to runs\\predict\\predict3*<br>\n",
    "Oppure:<br>\n",
    "*video 1/1 (frame 954/954) ... DONE (123.4ms)*"
   ]
  },
  {
   "cell_type": "markdown",
   "id": "8jKSiSgiESX7",
   "metadata": {
    "id": "8jKSiSgiESX7"
   },
   "source": [
    "---\n",
    "NB. A volte la GPU di Colab (anche la \"High-RAM\") può andare **più lenta della CPU locale del proprio PC!**\n",
    "\n",
    "🚦 MOTIVI PRINCIPALI\n",
    "1. Overhead del caricamento su GPU<br>\n",
    "Il video (.mp4) deve essere:\n",
    "  - letto da disco,\n",
    "  - decodificato in frame,\n",
    "  -convertito in tensori,\n",
    "  - spostato nella memoria della GPU (cuda).\n",
    "\n",
    "👉 Tutto questo richiede tempo e non è accelerato dalla GPU, quindi su video corti o piccoli il vantaggio della GPU non si vede (anzi: può peggiorare le performance).\n",
    "\n",
    "---"
   ]
  },
  {
   "cell_type": "markdown",
   "id": "MpdREoIfOV_n",
   "metadata": {
    "id": "MpdREoIfOV_n"
   },
   "source": [
    "# L'interpretazione dei risultati\n",
    "Il metodo `model.predict` fornisce tre output:\n",
    "- il log (in tempo reale)\n",
    "- il video annotato\n",
    "- i `results` su disco."
   ]
  },
  {
   "cell_type": "markdown",
   "id": "renW3elTLt13",
   "metadata": {
    "id": "renW3elTLt13"
   },
   "source": [
    "**Ma vediamo ora i contenuti della variabile `results`**:<br> è una lista di oggetti `ultralytics.engine.results.Results`, **uno per ogni frame** (o immagine, se l'input è un'immagine).\n",
    "\n",
    "Ogni oggetto contiene:\n",
    "- `.boxes` → le box previste\n",
    "- `.probs` → le probabilità (se classifica)\n",
    "- `.keypoints`, `.masks` → se si sono abilitate segmentazione o pose\n",
    "-`.plot()` → disegna le box su un’immagine\n",
    "- `.save()` → salva il frame annotato\n",
    "- `.orig_img` → immagine originale\n",
    "- `.names` → nomi delle classi"
   ]
  },
  {
   "cell_type": "code",
   "execution_count": null,
   "id": "a5yF-Ll3R7g-",
   "metadata": {
    "colab": {
     "base_uri": "https://localhost:8080/"
    },
    "id": "a5yF-Ll3R7g-",
    "outputId": "08d3638f-373e-43da-8ecb-d3e93bc6466f"
   },
   "outputs": [],
   "source": [
    "type(results)   # una LISTA!"
   ]
  },
  {
   "cell_type": "code",
   "execution_count": null,
   "id": "Bq8K6lXnScXt",
   "metadata": {
    "colab": {
     "base_uri": "https://localhost:8080/"
    },
    "id": "Bq8K6lXnScXt",
    "outputId": "d9519b43-3572-4295-c199-d0ac5c1bf0b6"
   },
   "outputs": [],
   "source": [
    "len(results)    # un elemento della lista per ogni frame"
   ]
  },
  {
   "cell_type": "code",
   "execution_count": null,
   "id": "ZxWFhXrHR9pF",
   "metadata": {
    "colab": {
     "base_uri": "https://localhost:8080/"
    },
    "id": "ZxWFhXrHR9pF",
    "outputId": "2add4631-fa15-4afb-ce37-182cd6ee2d69"
   },
   "outputs": [],
   "source": [
    "results[0]      # il primo frame (ottenuto tramite il subsetting di lista)\n",
    "                # molte info sono nel primo campo 'boxes': un oggetto ultralytics.engine.results.Results"
   ]
  },
  {
   "cell_type": "code",
   "execution_count": null,
   "id": "7n4HZGE6TeS1",
   "metadata": {
    "colab": {
     "base_uri": "https://localhost:8080/",
     "height": 238
    },
    "id": "7n4HZGE6TeS1",
    "outputId": "48525bf7-bc95-4223-9414-82d81d47c41d"
   },
   "outputs": [],
   "source": [
    "type(results[0])"
   ]
  },
  {
   "cell_type": "markdown",
   "id": "s0OGXMmWWncs",
   "metadata": {
    "id": "s0OGXMmWWncs"
   },
   "source": [
    "Estraiamo da `results` le classi individuate nel primo frame:"
   ]
  },
  {
   "cell_type": "code",
   "execution_count": null,
   "id": "jU37ZQo7UQo0",
   "metadata": {
    "colab": {
     "base_uri": "https://localhost:8080/"
    },
    "id": "jU37ZQo7UQo0",
    "outputId": "7faa9938-a0d3-48ba-c541-b0c951557d82"
   },
   "outputs": [],
   "source": [
    "results[1].boxes.cls"
   ]
  },
  {
   "cell_type": "markdown",
   "id": "Q4iutdDNMfgo",
   "metadata": {
    "id": "Q4iutdDNMfgo"
   },
   "source": [
    "2 è la classe *cars*, 0 è la classe *person*, 3 è la classe *motorcycle* - vedi log precedente.\n",
    "\n",
    "Ora estraiamo da `results` le probabilità (**confidence**) delle classi individuate (nel primo frame):\n",
    "\n"
   ]
  },
  {
   "cell_type": "code",
   "execution_count": null,
   "id": "da-atNLjVVWs",
   "metadata": {
    "colab": {
     "base_uri": "https://localhost:8080/"
    },
    "id": "da-atNLjVVWs",
    "outputId": "9a68a31a-5b40-40e3-a230-09369e5ada06"
   },
   "outputs": [],
   "source": [
    "results[1].boxes.conf"
   ]
  },
  {
   "cell_type": "markdown",
   "id": "FW97Wk0eQ_FK",
   "metadata": {
    "id": "FW97Wk0eQ_FK"
   },
   "source": [
    "Nessuna classe rilevata ha confidenza inferiore al valore 0.10, che infatti avevamo impostato nella `model.predict` come valore soglia limite."
   ]
  },
  {
   "cell_type": "markdown",
   "id": "C0drp6PVVRmd",
   "metadata": {
    "id": "C0drp6PVVRmd"
   },
   "source": [
    "Esempio strutturato: stampare le classi rilevate per i primi 5 frame."
   ]
  },
  {
   "cell_type": "code",
   "execution_count": null,
   "id": "i2Wa0_D9Mluo",
   "metadata": {
    "colab": {
     "base_uri": "https://localhost:8080/"
    },
    "id": "i2Wa0_D9Mluo",
    "outputId": "104a9d14-8ead-4ca0-f3eb-34605e6c64ff"
   },
   "outputs": [],
   "source": [
    "for r in results[:5]:\n",
    "    print([r.names[int(cls)] for cls in r.boxes.cls])"
   ]
  },
  {
   "cell_type": "markdown",
   "id": "9I3p_M3cRqiS",
   "metadata": {
    "id": "9I3p_M3cRqiS"
   },
   "source": [
    "Il video in oggetto è affollato da macchine parcheggiate."
   ]
  },
  {
   "cell_type": "markdown",
   "id": "Aleh5e-tV0Jj",
   "metadata": {
    "id": "Aleh5e-tV0Jj"
   },
   "source": [
    "Esempio strutturato: stampare le probabilità  delle classi rilevate per i primi 5 frame:"
   ]
  },
  {
   "cell_type": "code",
   "execution_count": null,
   "id": "p3PX5BK4WAgU",
   "metadata": {
    "colab": {
     "base_uri": "https://localhost:8080/"
    },
    "id": "p3PX5BK4WAgU",
    "outputId": "74c3ac77-9f26-4b7d-aa57-59317469fa32"
   },
   "outputs": [],
   "source": [
    "for i, r in enumerate(results[:5]):\n",
    "    print(f\"\\n Frame {i+1}\")\n",
    "    boxes = r.boxes\n",
    "    for j in range(len(boxes)):\n",
    "        cls_id = int(boxes.cls[j])         # ID classe predetta\n",
    "        cls_name = r.names[cls_id]         # nome della classe\n",
    "        conf = float(boxes.conf[j])        # confidenza\n",
    "        print(f\" - {cls_name:15s} conf: {conf:.2f}\")\n"
   ]
  },
  {
   "cell_type": "markdown",
   "id": "FsD_-zwPHSmY",
   "metadata": {
    "id": "FsD_-zwPHSmY"
   },
   "source": [
    "---\n",
    "> Oltre alla variabile `results` (ed al log), la `model.predict()` di YOLOv8 (*Ultralytics*) restituisce in output il file `.avi` annotato (**vedi la cartella sottostante (Windows o Linux)**.\n",
    "\n",
    "> Il file non è in formato `.mp4` per **scelta tecnica predefinita** della libreria, che usa `OpenCV (cv2)` per salvare i video.\n",
    "\n",
    "> Secondo chatGPT, il formato `.avi` è ottimo per:\n",
    "- analisi video con modelli ML\t- AVI (meno compressione → meno perdita info)\n",
    "- montaggio video con poco decoding\tAVI\n",
    "\n",
    "\n",
    "> Tuttavia, il formato `.avi` non è <u>sempre</u> ben supportato nei browser. Si deve **convertire** in `.mp4` con la famosa libreria [`ffmpeg`](https://en.wikipedia.org/wiki/FFmpeg) (qualche minuto).\n",
    "\n",
    "> Attenzione: l'output `.mp4` deve essere salvato anch'esso nella sotto-directory `runs/detect/predict` per non sovrascrivere l'originale!\n",
    "\n",
    "---"
   ]
  },
  {
   "cell_type": "code",
   "execution_count": null,
   "id": "dNwlBURHH6ZY",
   "metadata": {
    "colab": {
     "base_uri": "https://localhost:8080/"
    },
    "id": "dNwlBURHH6ZY",
    "outputId": "29265e0c-3cef-46f3-8e9e-7c116f1094d6"
   },
   "outputs": [],
   "source": [
    "!ffmpeg -i runs/detect/predict2/video_strada_2_landscape.avi -vcodec libx264 -crf 23 runs/detect/predict2/video_strada_2_landscape.mp4"
   ]
  },
  {
   "cell_type": "markdown",
   "id": "mZyzuxizGgDb",
   "metadata": {
    "id": "mZyzuxizGgDb"
   },
   "source": [
    "# L'esecuzione del file\n",
    "\n",
    "Eseguiamo il file.\n",
    "\n",
    "In <u>Jupyter Notebook su Windows</u> è sufficiente fare **doppio click** sul file prodotto nella directory `run/detect/predictN`.\n",
    "\n",
    "In <u>Google Colab su Linux</u> non si può eseguire il video con doppio click, perché non è un ambiente desktop. Però si può visualizzarlo dentro il notebook in questo semplice modo:"
   ]
  },
  {
   "cell_type": "code",
   "execution_count": null,
   "id": "HpKl24TVZvx1",
   "metadata": {
    "colab": {
     "base_uri": "https://localhost:8080/",
     "height": 382
    },
    "id": "HpKl24TVZvx1",
    "outputId": "4777c05a-39bc-4481-8e39-c6106b4734df"
   },
   "outputs": [],
   "source": [
    "if IN_COLAB:\n",
    "  from IPython.display import Video\n",
    "  display(Video(\"/content/runs/detect/predict2/video_strada_2_landscape.mp4\", embed=True, width=640))\n",
    "\n"
   ]
  },
  {
   "cell_type": "markdown",
   "id": "nysoYvy5E-aO",
   "metadata": {
    "id": "nysoYvy5E-aO"
   },
   "source": [
    "Con lo stream:"
   ]
  },
  {
   "cell_type": "code",
   "execution_count": null,
   "id": "pVPBBKLJdBuZ",
   "metadata": {
    "colab": {
     "base_uri": "https://localhost:8080/",
     "height": 1000
    },
    "id": "pVPBBKLJdBuZ",
    "outputId": "3b0a5c48-429f-4f9b-9f8d-c5825faccc06"
   },
   "outputs": [],
   "source": [
    "results = model.predict(source='video_strada_2.mp4', stream=True)\n",
    "for r in results:\n",
    "    print(r.boxes)  # stampa le box del frame corrente\n"
   ]
  },
  {
   "cell_type": "markdown",
   "id": "ef6746af-648b-41c2-aaff-76acaccbad28",
   "metadata": {
    "id": "ef6746af-648b-41c2-aaff-76acaccbad28"
   },
   "source": [
    "# Script standalone\n",
    "Ecco una **versione interattiva** del codice precedente pensata per essere eseguita in uno script Python standalone (**non in Jupyter, ma da shell**), in modo che venga mostrato **in tempo reale** il video con i bounding box rilevati da YOLOv8:\n",
    "\n",
    "```python\n",
    "from ultralytics import YOLO\n",
    "model = YOLO(\"yolo11m.pt\")\n",
    "model.predict(\n",
    "    source=\"video_strada.mp4\",  \n",
    "    device='cpu',              \n",
    "    imgsz=640,\n",
    "    conf=0.3,                \n",
    "    show=True,                  \n",
    "    stream=False,              \n",
    "    save=False                 \n",
    ")\n",
    "```\n",
    "**Note**:<br>\n",
    "- `show=True` funziona solo fuori da Jupyter (es. lanciando da terminale: *python yolo_video.py*)\n",
    "- si può usare `source=0` per la webcam live\n",
    "- se si vuole anche salvare il video annotato, impostare `save=True`\n",
    "- `stream=False` va bene se il video è corto; se è lungo, si può impostare `stream=True` per evitare uso eccessivo di RAM\n",
    "\n",
    "---\n",
    "Il file **script_standalone.py** contiene il codice per la shell mostrato in questa cella; eseguirlo in questo modo:\n",
    "- attivare un prompt anaconda\n",
    "- attivare l'ambiente *myenv* (dove questo notebook ha fatto le installazioni dei package)\n",
    "- posizionarsi nella directory corrente di questo notebook con:<br>\n",
    "*cd C:/Users/Utente/Desktop/salvataggi/SALVATAGGIO DATI/Documents/Seminari/Data Science (corsi)/Corso Reti Neurali/Computer Vision*\n",
    "- eseguire `python script_standalone.py`\n",
    "\n",
    "---"
   ]
  },
  {
   "cell_type": "markdown",
   "id": "fd255fdd-8ad9-4363-954e-d8defb69f4c3",
   "metadata": {
    "id": "fd255fdd-8ad9-4363-954e-d8defb69f4c3"
   },
   "source": [
    "Qui un [utile video](https://docs.ultralytics.com/modes/predict/#introduction) sulla estrazione dei risultati dell'inferenza."
   ]
  },
  {
   "cell_type": "markdown",
   "id": "4f8d4308-9981-41ee-93c3-1654617d6769",
   "metadata": {
    "id": "4f8d4308-9981-41ee-93c3-1654617d6769"
   },
   "source": [
    "# YOLO vs OpenCV"
   ]
  },
  {
   "cell_type": "markdown",
   "id": "a5ca3962-2292-4269-a491-37aad041c0b7",
   "metadata": {
    "id": "a5ca3962-2292-4269-a491-37aad041c0b7"
   },
   "source": [
    "OpenCV e YOLO sono due pilastri nel mondo della Computer Vision, ma **servono a scopi diversi** (anche se possono essere usati insieme). Vediamo le differenze con vari punti chiave e poi qualche esempio d’uso.\n",
    "\n",
    "**1. Cos'è OpenCV?**\n",
    "OpenCV (Open Source Computer Vision Library) è una libreria generalista per la computer vision.\n",
    "\n",
    "È scritta in C/C++ ma ha binding per Python, Java, ecc.\n",
    "\n",
    "Serve per elaborazione di immagini e video: **filtri, segmentazione, morphing, motion tracking, ecc**.\n",
    "\n",
    "Contiene algoritmi tradizionali di visione artificiale (no AI): ad esempio, edge detection, template matching, optical flow, ecc.\n",
    "\n",
    "Ha anche moduli per machine learning, ma non nasce per le reti neurali.\n",
    "\n",
    "**Esempi di cosa puoi fare con OpenCV**:\n",
    "\n",
    "Rilevare un volto con Haar Cascade\n",
    "\n",
    "Trovare contorni in un’immagine\n",
    "\n",
    "Applicare filtri, trasformazioni geometriche\n",
    "\n",
    "Lavorare con videocamere\n",
    "\n",
    "**Cos'è YOLO?**\n",
    "\n",
    "YOLO (You Only Look Once) è un **algoritmo di object detection basato su deep learning**, ovvero:\n",
    "\n",
    "Usa una rete neurale convoluzionale (CNN)\n",
    "\n",
    "Rileva e **classifica oggetti** in un’immagine o un video in tempo reale (frame per frame)\n",
    "\n",
    "Ti restituisce bounding box, label, confidenza\n",
    "\n",
    "Le versioni recenti (YOLOv5, v7, v8, v9) sono super veloci ed efficienti, anche su mobile e CPU.\n",
    "\n",
    "**Esempi di cosa fa YOLO**:\n",
    "\n",
    "In un video di traffico: individua auto, persone, semafori, moto\n",
    "\n",
    "In uno stadio: individua giocatori, palloni, arbitri\n",
    "\n",
    "In un magazzino: rileva scatole, prodotti, pallet\n",
    "\n",
    "Inoltre registra gli oggetti rilevati.\n",
    "\n"
   ]
  },
  {
   "cell_type": "markdown",
   "id": "6edbade3-1b50-418d-a9e1-70ab6d75746f",
   "metadata": {
    "id": "6edbade3-1b50-418d-a9e1-70ab6d75746f"
   },
   "source": [
    "---\n",
    "**Video sorveglianza di giardini, case, stanze, ecc tramite webcam.**<br>\n",
    "In tempo reale e gratuitamente.<br>\n",
    "Produzione di statistiche sugli oggetti / persone / animali rilevati.<br>\n",
    "Alert via email con frame allegato, per valutare se il positivo è vero o falso (l'11 luglio).\n",
    "\n",
    "---"
   ]
  },
  {
   "cell_type": "markdown",
   "id": "984ed042-a05b-47d1-8140-72872e9eb666",
   "metadata": {
    "id": "984ed042-a05b-47d1-8140-72872e9eb666"
   },
   "source": [
    "# Generatori di codice: esercizio\n",
    "\n",
    "E' possibile avere una barra di avanzamento della `model.predict`?<br>\n",
    "Chiedere a chatGPT o Claude.\n",
    "\n",
    "---"
   ]
  },
  {
   "cell_type": "markdown",
   "id": "952c4beb-7f99-4cf7-aabe-9810ee2e65f7",
   "metadata": {},
   "source": [
    "# Versione 2: email di warning\n",
    "Facciamo un miglioramento al nostro sistema di video-sorveglianza.<br>\n",
    "Quando nel campo visivo della webcam compare una persona il sistema in automatico invia una email con quel frame. E' importante per riconoscere i falsi positivi.<br>\n"
   ]
  },
  {
   "cell_type": "code",
   "execution_count": null,
   "id": "4541be88-9d6e-4e5a-aaad-8d990a34e23d",
   "metadata": {},
   "outputs": [],
   "source": [
    "from ultralytics import YOLO\n",
    "import requests\n",
    "import cv2\n",
    "from datetime import datetime, timedelta"
   ]
  },
  {
   "cell_type": "code",
   "execution_count": null,
   "id": "aef192ce-4690-4027-8cd9-9e3d7944506a",
   "metadata": {},
   "outputs": [],
   "source": [
    "# Inserire la URL di Zapier\n",
    "URL_WEBHOOK = \"https://hooks.zapier.com/hooks/catch/23724713/u3l6nas/\""
   ]
  },
  {
   "cell_type": "code",
   "execution_count": null,
   "id": "22af98bd-36dd-403f-8615-331e5f8a1163",
   "metadata": {},
   "outputs": [],
   "source": [
    "# Carica il modello\n",
    "modello = YOLO(\"yolo11m.pt\")"
   ]
  },
  {
   "cell_type": "code",
   "execution_count": null,
   "id": "765edf33-9b46-4ab3-ac92-5a529c531f46",
   "metadata": {},
   "outputs": [],
   "source": [
    "for result in modello.predict(\n",
    "    source='video_strada_2.mp4',\n",
    "    device='cpu',\n",
    "    imgsz=640,\n",
    "    conf=0.1,\n",
    "    # stream=True,    # streaming frame-by-frame\n",
    "    show=True       # mantiene la visualizzazione live\n",
    "):\n",
    "    # Classi rilevate nel frame\n",
    "    id_classi = result.boxes.cls.cpu().numpy().astype(int)\n",
    " \n",
    "    # Se c'è almeno una persona (classe 0)\n",
    "    if 0 in id_classi:\n",
    "        ora_corrente = datetime.now()\n",
    "        # Controlla se è passato abbastanza tempo dall'ultimo invio\n",
    "        if ultimo_invio is None or ora_corrente - ultimo_invio >= pausa_di_attesa:\n",
    "            # Prepara il frame annotato\n",
    "            frame = result.plot()  # numpy array BGR\n",
    "            success, buffer = cv2.imencode('.jpg', frame)\n",
    "            if not success:\n",
    "                continue\n",
    " \n",
    "            # Pre‐formatting del timestamp: HH:mm D/M/YY\n",
    "            day   = ora_corrente.day\n",
    "            month = ora_corrente.month\n",
    "            year2 = ora_corrente.year % 100\n",
    "            # es. \"10:09 23/6/25\"\n",
    "            formatted_timestamp = ora_corrente.strftime(\"%H:%M \") + f\"{day}/{month}/{year2:02}\"\n",
    " \n",
    "            # Payload testuale\n",
    "            data = {\n",
    "                \"event\":     \"person_detected\",\n",
    "                \"count\":     int((id_classi == 0).sum()),\n",
    "                \"timestamp\": formatted_timestamp\n",
    "            }\n",
    "            # File binary\n",
    "            files = {\n",
    "                \"file\": (\"frame.jpg\", buffer.tobytes(), \"image/jpeg\")\n",
    "            }\n",
    " \n",
    "            try:\n",
    "                requests.post(URL_WEBHOOK, data=data, files=files, timeout=5).raise_for_status()\n",
    "                print(f\"[{formatted_timestamp}] Webhook inviato con frame allegato\")\n",
    "                ultimo_invio = ora_corrente\n",
    "            except requests.RequestException as errore:\n",
    "                print(\"Errore invio webhook:\", errore)"
   ]
  },
  {
   "cell_type": "code",
   "execution_count": null,
   "id": "3a7209a8-0f33-49f9-b8b2-78d8217917aa",
   "metadata": {},
   "outputs": [],
   "source": []
  }
 ],
 "metadata": {
  "colab": {
   "provenance": []
  },
  "kernelspec": {
   "display_name": "Python 3 (ipykernel)",
   "language": "python",
   "name": "python3"
  },
  "language_info": {
   "codemirror_mode": {
    "name": "ipython",
    "version": 3
   },
   "file_extension": ".py",
   "mimetype": "text/x-python",
   "name": "python",
   "nbconvert_exporter": "python",
   "pygments_lexer": "ipython3",
   "version": "3.13.2"
  }
 },
 "nbformat": 4,
 "nbformat_minor": 5
}
